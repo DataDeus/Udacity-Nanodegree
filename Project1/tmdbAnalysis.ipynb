{
 "cells": [
  {
   "cell_type": "markdown",
   "metadata": {},
   "source": [
    "# Project: TMDB movie data\n",
    "\n",
    "## Table of Contents\n",
    "<ul>\n",
    "<li><a href=\"#intro\">Introduction</a></li>\n",
    "<li><a href=\"#wrangling\">Data Wrangling</a></li>\n",
    "<li><a href=\"#eda\">Exploratory Data Analysis</a></li>\n",
    "<li><a href=\"#conclusions\">Conclusions</a></li>\n",
    "</ul>"
   ]
  },
  {
   "cell_type": "markdown",
   "metadata": {},
   "source": [
    "## Introduction\n",
    "\n",
    "This data set contains information about 10,000 movies collected from The Movie Database (TMDb), including user ratings and revenue.\n",
    "\n",
    "This is important to help the film industry have an insightful look as to the woork they do...\n",
    "\n",
    "<br>\n",
    "\n",
    "Some questions answeered in this Notebook are:\n",
    "- Which genres are most popular from year to year?\n",
    "- What kinds of properties are associated with movies that have high revenues?\n",
    "- How many movies are no budget movies and how do they compare in popularity and total vote average to movies with a budget?\n",
    "- Most popular actors in an action film"
   ]
  },
  {
   "cell_type": "code",
   "execution_count": 178,
   "metadata": {
    "collapsed": true
   },
   "outputs": [],
   "source": [
    "# dependencies\n",
    "import pandas as pd\n",
    "import matplotlib.pyplot as plt\n",
    "%matplotlib inline\n",
    "import seaborn as sb"
   ]
  },
  {
   "cell_type": "markdown",
   "metadata": {},
   "source": [
    "## Data Wrangling\n",
    "\n",
    "I'll tinker around the datasets to refine it and prepare it for EDA."
   ]
  },
  {
   "cell_type": "code",
   "execution_count": 179,
   "metadata": {
    "collapsed": true
   },
   "outputs": [],
   "source": [
    "# read in the data\n",
    "df = pd.read_csv('tmdb.csv')"
   ]
  },
  {
   "cell_type": "code",
   "execution_count": 180,
   "metadata": {},
   "outputs": [
    {
     "name": "stdout",
     "output_type": "stream",
     "text": [
      "<class 'pandas.core.frame.DataFrame'>\n",
      "RangeIndex: 10866 entries, 0 to 10865\n",
      "Data columns (total 21 columns):\n",
      " #   Column                Non-Null Count  Dtype  \n",
      "---  ------                --------------  -----  \n",
      " 0   id                    10866 non-null  int64  \n",
      " 1   imdb_id               10856 non-null  object \n",
      " 2   popularity            10866 non-null  float64\n",
      " 3   budget                10866 non-null  int64  \n",
      " 4   revenue               10866 non-null  int64  \n",
      " 5   original_title        10866 non-null  object \n",
      " 6   cast                  10790 non-null  object \n",
      " 7   homepage              2936 non-null   object \n",
      " 8   director              10822 non-null  object \n",
      " 9   tagline               8042 non-null   object \n",
      " 10  keywords              9373 non-null   object \n",
      " 11  overview              10862 non-null  object \n",
      " 12  runtime               10866 non-null  int64  \n",
      " 13  genres                10843 non-null  object \n",
      " 14  production_companies  9836 non-null   object \n",
      " 15  release_date          10866 non-null  object \n",
      " 16  vote_count            10866 non-null  int64  \n",
      " 17  vote_average          10866 non-null  float64\n",
      " 18  release_year          10866 non-null  int64  \n",
      " 19  budget_adj            10866 non-null  float64\n",
      " 20  revenue_adj           10866 non-null  float64\n",
      "dtypes: float64(4), int64(6), object(11)\n",
      "memory usage: 1.7+ MB\n",
      "None\n"
     ]
    },
    {
     "data": {
      "text/html": [
       "<div>\n",
       "<style scoped>\n",
       "    .dataframe tbody tr th:only-of-type {\n",
       "        vertical-align: middle;\n",
       "    }\n",
       "\n",
       "    .dataframe tbody tr th {\n",
       "        vertical-align: top;\n",
       "    }\n",
       "\n",
       "    .dataframe thead th {\n",
       "        text-align: right;\n",
       "    }\n",
       "</style>\n",
       "<table border=\"1\" class=\"dataframe\">\n",
       "  <thead>\n",
       "    <tr style=\"text-align: right;\">\n",
       "      <th></th>\n",
       "      <th>id</th>\n",
       "      <th>imdb_id</th>\n",
       "      <th>popularity</th>\n",
       "      <th>budget</th>\n",
       "      <th>revenue</th>\n",
       "      <th>original_title</th>\n",
       "      <th>cast</th>\n",
       "      <th>homepage</th>\n",
       "      <th>director</th>\n",
       "      <th>tagline</th>\n",
       "      <th>...</th>\n",
       "      <th>overview</th>\n",
       "      <th>runtime</th>\n",
       "      <th>genres</th>\n",
       "      <th>production_companies</th>\n",
       "      <th>release_date</th>\n",
       "      <th>vote_count</th>\n",
       "      <th>vote_average</th>\n",
       "      <th>release_year</th>\n",
       "      <th>budget_adj</th>\n",
       "      <th>revenue_adj</th>\n",
       "    </tr>\n",
       "  </thead>\n",
       "  <tbody>\n",
       "    <tr>\n",
       "      <th>0</th>\n",
       "      <td>135397</td>\n",
       "      <td>tt0369610</td>\n",
       "      <td>32.985763</td>\n",
       "      <td>150000000</td>\n",
       "      <td>1513528810</td>\n",
       "      <td>Jurassic World</td>\n",
       "      <td>Chris Pratt|Bryce Dallas Howard|Irrfan Khan|Vi...</td>\n",
       "      <td>http://www.jurassicworld.com/</td>\n",
       "      <td>Colin Trevorrow</td>\n",
       "      <td>The park is open.</td>\n",
       "      <td>...</td>\n",
       "      <td>Twenty-two years after the events of Jurassic ...</td>\n",
       "      <td>124</td>\n",
       "      <td>Action|Adventure|Science Fiction|Thriller</td>\n",
       "      <td>Universal Studios|Amblin Entertainment|Legenda...</td>\n",
       "      <td>6/9/15</td>\n",
       "      <td>5562</td>\n",
       "      <td>6.5</td>\n",
       "      <td>2015</td>\n",
       "      <td>1.379999e+08</td>\n",
       "      <td>1.392446e+09</td>\n",
       "    </tr>\n",
       "    <tr>\n",
       "      <th>1</th>\n",
       "      <td>76341</td>\n",
       "      <td>tt1392190</td>\n",
       "      <td>28.419936</td>\n",
       "      <td>150000000</td>\n",
       "      <td>378436354</td>\n",
       "      <td>Mad Max: Fury Road</td>\n",
       "      <td>Tom Hardy|Charlize Theron|Hugh Keays-Byrne|Nic...</td>\n",
       "      <td>http://www.madmaxmovie.com/</td>\n",
       "      <td>George Miller</td>\n",
       "      <td>What a Lovely Day.</td>\n",
       "      <td>...</td>\n",
       "      <td>An apocalyptic story set in the furthest reach...</td>\n",
       "      <td>120</td>\n",
       "      <td>Action|Adventure|Science Fiction|Thriller</td>\n",
       "      <td>Village Roadshow Pictures|Kennedy Miller Produ...</td>\n",
       "      <td>5/13/15</td>\n",
       "      <td>6185</td>\n",
       "      <td>7.1</td>\n",
       "      <td>2015</td>\n",
       "      <td>1.379999e+08</td>\n",
       "      <td>3.481613e+08</td>\n",
       "    </tr>\n",
       "    <tr>\n",
       "      <th>2</th>\n",
       "      <td>262500</td>\n",
       "      <td>tt2908446</td>\n",
       "      <td>13.112507</td>\n",
       "      <td>110000000</td>\n",
       "      <td>295238201</td>\n",
       "      <td>Insurgent</td>\n",
       "      <td>Shailene Woodley|Theo James|Kate Winslet|Ansel...</td>\n",
       "      <td>http://www.thedivergentseries.movie/#insurgent</td>\n",
       "      <td>Robert Schwentke</td>\n",
       "      <td>One Choice Can Destroy You</td>\n",
       "      <td>...</td>\n",
       "      <td>Beatrice Prior must confront her inner demons ...</td>\n",
       "      <td>119</td>\n",
       "      <td>Adventure|Science Fiction|Thriller</td>\n",
       "      <td>Summit Entertainment|Mandeville Films|Red Wago...</td>\n",
       "      <td>3/18/15</td>\n",
       "      <td>2480</td>\n",
       "      <td>6.3</td>\n",
       "      <td>2015</td>\n",
       "      <td>1.012000e+08</td>\n",
       "      <td>2.716190e+08</td>\n",
       "    </tr>\n",
       "    <tr>\n",
       "      <th>3</th>\n",
       "      <td>140607</td>\n",
       "      <td>tt2488496</td>\n",
       "      <td>11.173104</td>\n",
       "      <td>200000000</td>\n",
       "      <td>2068178225</td>\n",
       "      <td>Star Wars: The Force Awakens</td>\n",
       "      <td>Harrison Ford|Mark Hamill|Carrie Fisher|Adam D...</td>\n",
       "      <td>http://www.starwars.com/films/star-wars-episod...</td>\n",
       "      <td>J.J. Abrams</td>\n",
       "      <td>Every generation has a story.</td>\n",
       "      <td>...</td>\n",
       "      <td>Thirty years after defeating the Galactic Empi...</td>\n",
       "      <td>136</td>\n",
       "      <td>Action|Adventure|Science Fiction|Fantasy</td>\n",
       "      <td>Lucasfilm|Truenorth Productions|Bad Robot</td>\n",
       "      <td>12/15/15</td>\n",
       "      <td>5292</td>\n",
       "      <td>7.5</td>\n",
       "      <td>2015</td>\n",
       "      <td>1.839999e+08</td>\n",
       "      <td>1.902723e+09</td>\n",
       "    </tr>\n",
       "    <tr>\n",
       "      <th>4</th>\n",
       "      <td>168259</td>\n",
       "      <td>tt2820852</td>\n",
       "      <td>9.335014</td>\n",
       "      <td>190000000</td>\n",
       "      <td>1506249360</td>\n",
       "      <td>Furious 7</td>\n",
       "      <td>Vin Diesel|Paul Walker|Jason Statham|Michelle ...</td>\n",
       "      <td>http://www.furious7.com/</td>\n",
       "      <td>James Wan</td>\n",
       "      <td>Vengeance Hits Home</td>\n",
       "      <td>...</td>\n",
       "      <td>Deckard Shaw seeks revenge against Dominic Tor...</td>\n",
       "      <td>137</td>\n",
       "      <td>Action|Crime|Thriller</td>\n",
       "      <td>Universal Pictures|Original Film|Media Rights ...</td>\n",
       "      <td>4/1/15</td>\n",
       "      <td>2947</td>\n",
       "      <td>7.3</td>\n",
       "      <td>2015</td>\n",
       "      <td>1.747999e+08</td>\n",
       "      <td>1.385749e+09</td>\n",
       "    </tr>\n",
       "  </tbody>\n",
       "</table>\n",
       "<p>5 rows × 21 columns</p>\n",
       "</div>"
      ],
      "text/plain": [
       "       id    imdb_id  popularity     budget     revenue  \\\n",
       "0  135397  tt0369610   32.985763  150000000  1513528810   \n",
       "1   76341  tt1392190   28.419936  150000000   378436354   \n",
       "2  262500  tt2908446   13.112507  110000000   295238201   \n",
       "3  140607  tt2488496   11.173104  200000000  2068178225   \n",
       "4  168259  tt2820852    9.335014  190000000  1506249360   \n",
       "\n",
       "                 original_title  \\\n",
       "0                Jurassic World   \n",
       "1            Mad Max: Fury Road   \n",
       "2                     Insurgent   \n",
       "3  Star Wars: The Force Awakens   \n",
       "4                     Furious 7   \n",
       "\n",
       "                                                cast  \\\n",
       "0  Chris Pratt|Bryce Dallas Howard|Irrfan Khan|Vi...   \n",
       "1  Tom Hardy|Charlize Theron|Hugh Keays-Byrne|Nic...   \n",
       "2  Shailene Woodley|Theo James|Kate Winslet|Ansel...   \n",
       "3  Harrison Ford|Mark Hamill|Carrie Fisher|Adam D...   \n",
       "4  Vin Diesel|Paul Walker|Jason Statham|Michelle ...   \n",
       "\n",
       "                                            homepage          director  \\\n",
       "0                      http://www.jurassicworld.com/   Colin Trevorrow   \n",
       "1                        http://www.madmaxmovie.com/     George Miller   \n",
       "2     http://www.thedivergentseries.movie/#insurgent  Robert Schwentke   \n",
       "3  http://www.starwars.com/films/star-wars-episod...       J.J. Abrams   \n",
       "4                           http://www.furious7.com/         James Wan   \n",
       "\n",
       "                         tagline  ...  \\\n",
       "0              The park is open.  ...   \n",
       "1             What a Lovely Day.  ...   \n",
       "2     One Choice Can Destroy You  ...   \n",
       "3  Every generation has a story.  ...   \n",
       "4            Vengeance Hits Home  ...   \n",
       "\n",
       "                                            overview runtime  \\\n",
       "0  Twenty-two years after the events of Jurassic ...     124   \n",
       "1  An apocalyptic story set in the furthest reach...     120   \n",
       "2  Beatrice Prior must confront her inner demons ...     119   \n",
       "3  Thirty years after defeating the Galactic Empi...     136   \n",
       "4  Deckard Shaw seeks revenge against Dominic Tor...     137   \n",
       "\n",
       "                                      genres  \\\n",
       "0  Action|Adventure|Science Fiction|Thriller   \n",
       "1  Action|Adventure|Science Fiction|Thriller   \n",
       "2         Adventure|Science Fiction|Thriller   \n",
       "3   Action|Adventure|Science Fiction|Fantasy   \n",
       "4                      Action|Crime|Thriller   \n",
       "\n",
       "                                production_companies release_date vote_count  \\\n",
       "0  Universal Studios|Amblin Entertainment|Legenda...       6/9/15       5562   \n",
       "1  Village Roadshow Pictures|Kennedy Miller Produ...      5/13/15       6185   \n",
       "2  Summit Entertainment|Mandeville Films|Red Wago...      3/18/15       2480   \n",
       "3          Lucasfilm|Truenorth Productions|Bad Robot     12/15/15       5292   \n",
       "4  Universal Pictures|Original Film|Media Rights ...       4/1/15       2947   \n",
       "\n",
       "   vote_average  release_year    budget_adj   revenue_adj  \n",
       "0           6.5          2015  1.379999e+08  1.392446e+09  \n",
       "1           7.1          2015  1.379999e+08  3.481613e+08  \n",
       "2           6.3          2015  1.012000e+08  2.716190e+08  \n",
       "3           7.5          2015  1.839999e+08  1.902723e+09  \n",
       "4           7.3          2015  1.747999e+08  1.385749e+09  \n",
       "\n",
       "[5 rows x 21 columns]"
      ]
     },
     "execution_count": 180,
     "metadata": {},
     "output_type": "execute_result"
    }
   ],
   "source": [
    "# have a quick glance at the data\n",
    "print(df.info())\n",
    "df.head()"
   ]
  },
  {
   "cell_type": "markdown",
   "metadata": {},
   "source": [
    "### The data has 10866 rows and 21 columns\n",
    "\n",
    "The first two columns, **\"id\",\"imdb_id\", \"genres\" \"production_companies\", \"release_date\", and \"release_year\" are categorical**. <br>\n",
    "\n",
    "**\"popularity\", \"vote_count\", \"vote_average\" are ordinal**,\t<br>\n",
    "\n",
    "**\"budget\", \"revenue\", \"budget_adj\", and \"revenue_adj\" are discrete.** <br>\n",
    "\n",
    "The next seven columns **\"original_title\", \"cast\", \"homepage\", \"director\", \"tagline\", \"keywords\", and \"overview\" are nominal** <br>\n",
    "\n",
    "**\"runtime\" is continous** "
   ]
  },
  {
   "cell_type": "markdown",
   "metadata": {},
   "source": [
    "### Data Cleaning\n",
    "\n",
    "- Remove unnecessary columns\n",
    "- Drop missing values\n",
    "- Drop duplicates\n",
    "- Reformat string with '|' to a list"
   ]
  },
  {
   "cell_type": "code",
   "execution_count": 181,
   "metadata": {},
   "outputs": [],
   "source": [
    "# drop columns\n",
    "df.drop(['imdb_id', 'homepage', 'release_date'], axis=1, inplace=True)"
   ]
  },
  {
   "cell_type": "code",
   "execution_count": 182,
   "metadata": {},
   "outputs": [
    {
     "name": "stdout",
     "output_type": "stream",
     "text": [
      "Columns that have missing vlaues: \n",
      "                      col  nullCount\n",
      "5                   cast         76\n",
      "6               director         44\n",
      "7                tagline       2824\n",
      "8               keywords       1493\n",
      "9               overview          4\n",
      "11                genres         23\n",
      "12  production_companies       1030\n",
      "id                      0\n",
      "popularity              0\n",
      "budget                  0\n",
      "revenue                 0\n",
      "original_title          0\n",
      "cast                    0\n",
      "director                0\n",
      "tagline                 0\n",
      "keywords                0\n",
      "overview                0\n",
      "runtime                 0\n",
      "genres                  0\n",
      "production_companies    0\n",
      "vote_count              0\n",
      "vote_average            0\n",
      "release_year            0\n",
      "budget_adj              0\n",
      "revenue_adj             0\n",
      "dtype: int64\n"
     ]
    }
   ],
   "source": [
    "# drop missing values\n",
    "dfNullity = df.isnull()\n",
    "dfNullity = dfNullity.sum()\n",
    "dfNullity = dfNullity.to_frame().reset_index()\n",
    "dfNullity.rename(columns={'index':'col', 0:'nullCount'}, inplace=True)\n",
    "dfNullity.query('nullCount > 0', inplace=True)\n",
    "print('Columns that have missing vlaues:', '\\n', dfNullity) # find columns with missing values and how many rows are missing\n",
    "\n",
    "df.dropna(inplace=True) \n",
    "print(df.isnull().sum()) # confirm that there is no other missing value"
   ]
  },
  {
   "cell_type": "code",
   "execution_count": 183,
   "metadata": {},
   "outputs": [
    {
     "name": "stdout",
     "output_type": "stream",
     "text": [
      "Number of duplicates originally: 1\n",
      "Number of duplicates afterwards: 0\n"
     ]
    }
   ],
   "source": [
    "# drop duplicated rows\n",
    "print ('Number of duplicates originally:', df.duplicated().sum()) # check for duplicates\n",
    "df.drop_duplicates(inplace=True) # drop duplicates\n",
    "print ('Number of duplicates afterwards:', df.duplicated().sum()) # confirm absence of duplicate\n",
    "\n",
    "# reset index after droping missing values\n",
    "df.reset_index(inplace=True)\n",
    "df.drop(['index'], axis=1, inplace=True)"
   ]
  },
  {
   "cell_type": "code",
   "execution_count": 184,
   "metadata": {},
   "outputs": [],
   "source": [
    "# reformat strings with '|' to lists\n",
    "columnList = ['cast', 'genres', 'keywords', 'production_companies']\n",
    "for column in columnList:\n",
    "    df[column] = df[column].apply(lambda x: x.split('|'))"
   ]
  },
  {
   "cell_type": "markdown",
   "metadata": {},
   "source": [
    "### After cleaning, the data now has 7031 Rows and 18 Columns\n",
    "\n",
    "which is 17.64% of the original data"
   ]
  },
  {
   "cell_type": "markdown",
   "metadata": {},
   "source": [
    "Having performed basic cleaning, it's time to go deeper. Examine the data and find out if there are missing values that are not in 'nan' format.\n",
    "For example, if a row in the 'budget' column is 0 should this be treated as a missing value?\n",
    "\n",
    "**Ocurrences like this will be treated as NO BUDGET MOVIES**\n",
    "\n",
    "<br>\n",
    "\n",
    "Because the data is not documented, we cannot tell the currenchy but a google search of the [Insurget buddget](https://www.google.com/search?q=budget+for+insurgent&sxsrf=ALiCzsasLzTnQiA72_PQ9i5Xi-Jh6iFnRQ%3A1652594570739&ei=ipeAYqvlLNKD8gKB9bY4&oq=budget+for+insurgetnt&gs_lcp=Cgdnd3Mtd2l6EAMYADIHCCEQChCgATIHCCEQChCgAToHCAAQRxCwAzoHCCMQsAIQJzoECAAQDToECCMQJzoFCAAQgAQ6BQgAEJECOggIABAPEBYQHjoGCAAQFhAeOgUIIRCgAUoECEEYAEoECEYYAFD8AljqJmDwM2gCcAF4AIABywKIAZI0kgEIMC4yLjI0LjOYAQCgAQHIAQjAAQE&sclient=gws-wiz/) shows a match with what is on the data.\n",
    "\n",
    "**So we can say that the financial values are in USD**\n",
    "\n",
    "<br>\n",
    "\n",
    "Some of the columns are lists, exploding/unnesting them will make the dataframe have so many rows and would take up more memory space.\n",
    "\n",
    "**For any question if necessary, the column will be exploded/unnested**"
   ]
  },
  {
   "cell_type": "markdown",
   "metadata": {},
   "source": [
    "## Exploratory Data Analysis"
   ]
  },
  {
   "cell_type": "markdown",
   "metadata": {},
   "source": [
    "The beginig part of this EDA section will cover very simple 1 dimensional analysis. \n",
    "\n",
    "To make this efficient, a `plotHist()` function will be built to make repetitve histograms on different variables in the data."
   ]
  },
  {
   "cell_type": "code",
   "execution_count": 185,
   "metadata": {},
   "outputs": [],
   "source": [
    "def plotHist(df, x, bins=20, figsize=(14, 6)):\n",
    "    '''\n",
    "    Creates a histogram for a given DataFrame and Series(column)\n",
    "    Args:\n",
    "        df (DataFrame): data containing x varribale\n",
    "        x (string): column to plot chart with\n",
    "        bins (int): number of bins for histogram plot\n",
    "        figsize (tuple): height and width dimensions of chart\n",
    "    Output:\n",
    "        Histogram chart\n",
    "    '''\n",
    "    # plot chart\n",
    "    df[x].hist(bins=bins, grid=False, figsize=figsize);\n",
    "    \n",
    "    x = x.replace('_', ' ') # reformating strings with underscore\n",
    "    plt.title(f'Distribution of {x}'.title(), fontsize=14, weight='bold') # formatting chart\n",
    "    plt.xlabel(x.title(), fontsize=10, weight='bold') #formatting label\n",
    "    plt.ylabel('Frequency'.title(), fontsize=10, weight='bold') # making a y label"
   ]
  },
  {
   "cell_type": "code",
   "execution_count": 186,
   "metadata": {},
   "outputs": [
    {
     "data": {
      "image/png": "[encoded data removed]",
      "text/plain": [
       "<Figure size 1008x432 with 1 Axes>"
      ]
     },
     "metadata": {
      "needs_background": "light"
     },
     "output_type": "display_data"
    }
   ],
   "source": [
    "plotHist(df, 'vote_average')"
   ]
  },
  {
   "cell_type": "markdown",
   "metadata": {},
   "source": [
    "Vote average is negatively skewed which means that there are more high vote averages than there are less vote averages"
   ]
  },
  {
   "cell_type": "code",
   "execution_count": 187,
   "metadata": {},
   "outputs": [
    {
     "data": {
      "image/png": "[encoded data removed]",
      "text/plain": [
       "<Figure size 1008x432 with 1 Axes>"
      ]
     },
     "metadata": {
      "needs_background": "light"
     },
     "output_type": "display_data"
    }
   ],
   "source": [
    "plotHist(df, 'release_year')"
   ]
  },
  {
   "cell_type": "markdown",
   "metadata": {},
   "source": [
    "More and more movies are made each year"
   ]
  },
  {
   "cell_type": "code",
   "execution_count": 188,
   "metadata": {},
   "outputs": [
    {
     "data": {
      "image/png": "[encoded data removed]",
      "text/plain": [
       "<Figure size 1008x432 with 1 Axes>"
      ]
     },
     "metadata": {
      "needs_background": "light"
     },
     "output_type": "display_data"
    }
   ],
   "source": [
    "plotHist(df.query('revenue_adj > 0'), 'revenue_adj')"
   ]
  },
  {
   "cell_type": "markdown",
   "metadata": {},
   "source": [
    "revenue is positively skewed which means, there are more movies with a low revenue"
   ]
  },
  {
   "cell_type": "code",
   "execution_count": 189,
   "metadata": {},
   "outputs": [
    {
     "data": {
      "image/png": "[encoded data removed]",
      "text/plain": [
       "<Figure size 1008x432 with 1 Axes>"
      ]
     },
     "metadata": {
      "needs_background": "light"
     },
     "output_type": "display_data"
    }
   ],
   "source": [
    "plotHist(df, 'popularity')"
   ]
  },
  {
   "cell_type": "markdown",
   "metadata": {},
   "source": [
    "popularity is positively skewed which means, there are more movies with a low popularity"
   ]
  },
  {
   "cell_type": "markdown",
   "metadata": {},
   "source": [
    "### Which genres are most popular from year to year?"
   ]
  },
  {
   "cell_type": "markdown",
   "metadata": {},
   "source": [
    "There are about 56 years in the data, so it is split into the past 5 yeaars (2011 - 2015)"
   ]
  },
  {
   "cell_type": "code",
   "execution_count": 190,
   "metadata": {
    "collapsed": true
   },
   "outputs": [
    {
     "data": {
      "text/html": [
       "<div>\n",
       "<style scoped>\n",
       "    .dataframe tbody tr th:only-of-type {\n",
       "        vertical-align: middle;\n",
       "    }\n",
       "\n",
       "    .dataframe tbody tr th {\n",
       "        vertical-align: top;\n",
       "    }\n",
       "\n",
       "    .dataframe thead th {\n",
       "        text-align: right;\n",
       "    }\n",
       "</style>\n",
       "<table border=\"1\" class=\"dataframe\">\n",
       "  <thead>\n",
       "    <tr style=\"text-align: right;\">\n",
       "      <th></th>\n",
       "      <th>release_year</th>\n",
       "      <th>genres</th>\n",
       "      <th>popularity</th>\n",
       "    </tr>\n",
       "  </thead>\n",
       "  <tbody>\n",
       "    <tr>\n",
       "      <th>0</th>\n",
       "      <td>2011</td>\n",
       "      <td>Thriller</td>\n",
       "      <td>100.539515</td>\n",
       "    </tr>\n",
       "    <tr>\n",
       "      <th>1</th>\n",
       "      <td>2012</td>\n",
       "      <td>Drama</td>\n",
       "      <td>108.156863</td>\n",
       "    </tr>\n",
       "    <tr>\n",
       "      <th>2</th>\n",
       "      <td>2013</td>\n",
       "      <td>Drama</td>\n",
       "      <td>128.664750</td>\n",
       "    </tr>\n",
       "    <tr>\n",
       "      <th>3</th>\n",
       "      <td>2014</td>\n",
       "      <td>Action</td>\n",
       "      <td>198.987352</td>\n",
       "    </tr>\n",
       "    <tr>\n",
       "      <th>4</th>\n",
       "      <td>2015</td>\n",
       "      <td>Action</td>\n",
       "      <td>221.309653</td>\n",
       "    </tr>\n",
       "  </tbody>\n",
       "</table>\n",
       "</div>"
      ],
      "text/plain": [
       "   release_year    genres  popularity\n",
       "0          2011  Thriller  100.539515\n",
       "1          2012     Drama  108.156863\n",
       "2          2013     Drama  128.664750\n",
       "3          2014    Action  198.987352\n",
       "4          2015    Action  221.309653"
      ]
     },
     "execution_count": 190,
     "metadata": {},
     "output_type": "execute_result"
    }
   ],
   "source": [
    "# groupby thee year and genres, select the popularityh column\n",
    "genres = df.explode('genres')\n",
    "genres = genres.groupby(by=['release_year', 'genres']).sum()['popularity']\n",
    "genres = genres.reset_index() \n",
    "\n",
    "# filter to 5 years ago\n",
    "genres.query('release_year >= 2011')\n",
    "\n",
    "df2011 = genres.query('release_year == 2011')\n",
    "df2012 = genres.query('release_year == 2012')\n",
    "df2013 = genres.query('release_year == 2013')\n",
    "df2014 = genres.query('release_year == 2014')\n",
    "df2015 = genres.query('release_year == 2015')\n",
    "\n",
    "df2011 = df2011[df2011.popularity == df2011.popularity.max()]\n",
    "df2012 = df2012[df2012.popularity == df2012.popularity.max()]\n",
    "df2013 = df2013[df2013.popularity == df2013.popularity.max()]\n",
    "df2014 = df2014[df2014.popularity == df2014.popularity.max()]\n",
    "df2015 = df2015[df2015.popularity == df2015.popularity.max()]\n",
    "\n",
    "# concat the five years values into one DF\n",
    "genres = pd.concat([df2011, df2012, df2013, df2014, df2015], ignore_index=True)\n",
    "genres"
   ]
  },
  {
   "cell_type": "code",
   "execution_count": 191,
   "metadata": {},
   "outputs": [
    {
     "data": {
      "text/plain": [
       "Text(105.0, 0.5, 'Release year')"
      ]
     },
     "execution_count": 191,
     "metadata": {},
     "output_type": "execute_result"
    },
    {
     "data": {
      "image/png": "[encoded data removed]",
      "text/plain": [
       "<Figure size 1008x432 with 2 Axes>"
      ]
     },
     "metadata": {
      "needs_background": "light"
     },
     "output_type": "display_data"
    }
   ],
   "source": [
    "# plot a heatmap for gneres popularity by year\n",
    "plt.figure(figsize=[14, 6])\n",
    "sb.heatmap(genres.set_index(['release_year', 'genres']).unstack('genres').droplevel(level=0, axis=1), annot=True, fmt='.2f', cmap='RdYlGn');\n",
    "plt.yticks(rotation=0);\n",
    "\n",
    "plt.title('Generes popularity by year', fontsize=14, weight='bold') # formatting chart\n",
    "plt.xlabel('Genres', fontsize=10, weight='bold') #formatting label\n",
    "plt.ylabel('Release year', fontsize=10, weight='bold') # making a y label"
   ]
  },
  {
   "cell_type": "markdown",
   "metadata": {},
   "source": [
    "### What kinds of properties are associated with movies that have high revenues?"
   ]
  },
  {
   "cell_type": "code",
   "execution_count": 192,
   "metadata": {},
   "outputs": [
    {
     "data": {
      "text/html": [
       "<div>\n",
       "<style scoped>\n",
       "    .dataframe tbody tr th:only-of-type {\n",
       "        vertical-align: middle;\n",
       "    }\n",
       "\n",
       "    .dataframe tbody tr th {\n",
       "        vertical-align: top;\n",
       "    }\n",
       "\n",
       "    .dataframe thead th {\n",
       "        text-align: right;\n",
       "    }\n",
       "</style>\n",
       "<table border=\"1\" class=\"dataframe\">\n",
       "  <thead>\n",
       "    <tr style=\"text-align: right;\">\n",
       "      <th></th>\n",
       "      <th>id</th>\n",
       "      <th>popularity</th>\n",
       "      <th>budget</th>\n",
       "      <th>revenue</th>\n",
       "      <th>runtime</th>\n",
       "      <th>vote_count</th>\n",
       "      <th>vote_average</th>\n",
       "      <th>release_year</th>\n",
       "      <th>budget_adj</th>\n",
       "      <th>revenue_adj</th>\n",
       "    </tr>\n",
       "  </thead>\n",
       "  <tbody>\n",
       "    <tr>\n",
       "      <th>id</th>\n",
       "      <td>1.000000</td>\n",
       "      <td>0.059001</td>\n",
       "      <td>-0.101641</td>\n",
       "      <td>-0.067851</td>\n",
       "      <td>-0.082703</td>\n",
       "      <td>0.012479</td>\n",
       "      <td>-0.091744</td>\n",
       "      <td>0.484502</td>\n",
       "      <td>-0.161177</td>\n",
       "      <td>-0.119847</td>\n",
       "    </tr>\n",
       "    <tr>\n",
       "      <th>popularity</th>\n",
       "      <td>0.059001</td>\n",
       "      <td>1.000000</td>\n",
       "      <td>0.521981</td>\n",
       "      <td>0.653280</td>\n",
       "      <td>0.189413</td>\n",
       "      <td>0.798939</td>\n",
       "      <td>0.272979</td>\n",
       "      <td>0.169882</td>\n",
       "      <td>0.486096</td>\n",
       "      <td>0.594809</td>\n",
       "    </tr>\n",
       "    <tr>\n",
       "      <th>budget</th>\n",
       "      <td>-0.101641</td>\n",
       "      <td>0.521981</td>\n",
       "      <td>1.000000</td>\n",
       "      <td>0.725662</td>\n",
       "      <td>0.249326</td>\n",
       "      <td>0.618222</td>\n",
       "      <td>0.100464</td>\n",
       "      <td>0.217755</td>\n",
       "      <td>0.967213</td>\n",
       "      <td>0.602990</td>\n",
       "    </tr>\n",
       "    <tr>\n",
       "      <th>revenue</th>\n",
       "      <td>-0.067851</td>\n",
       "      <td>0.653280</td>\n",
       "      <td>0.725662</td>\n",
       "      <td>1.000000</td>\n",
       "      <td>0.220666</td>\n",
       "      <td>0.782714</td>\n",
       "      <td>0.217408</td>\n",
       "      <td>0.128270</td>\n",
       "      <td>0.696864</td>\n",
       "      <td>0.915085</td>\n",
       "    </tr>\n",
       "    <tr>\n",
       "      <th>runtime</th>\n",
       "      <td>-0.082703</td>\n",
       "      <td>0.189413</td>\n",
       "      <td>0.249326</td>\n",
       "      <td>0.220666</td>\n",
       "      <td>1.000000</td>\n",
       "      <td>0.227124</td>\n",
       "      <td>0.260809</td>\n",
       "      <td>-0.103767</td>\n",
       "      <td>0.293687</td>\n",
       "      <td>0.239720</td>\n",
       "    </tr>\n",
       "    <tr>\n",
       "      <th>vote_count</th>\n",
       "      <td>0.012479</td>\n",
       "      <td>0.798939</td>\n",
       "      <td>0.618222</td>\n",
       "      <td>0.782714</td>\n",
       "      <td>0.227124</td>\n",
       "      <td>1.000000</td>\n",
       "      <td>0.320417</td>\n",
       "      <td>0.182409</td>\n",
       "      <td>0.569737</td>\n",
       "      <td>0.695303</td>\n",
       "    </tr>\n",
       "    <tr>\n",
       "      <th>vote_average</th>\n",
       "      <td>-0.091744</td>\n",
       "      <td>0.272979</td>\n",
       "      <td>0.100464</td>\n",
       "      <td>0.217408</td>\n",
       "      <td>0.260809</td>\n",
       "      <td>0.320417</td>\n",
       "      <td>1.000000</td>\n",
       "      <td>-0.128344</td>\n",
       "      <td>0.115151</td>\n",
       "      <td>0.244492</td>\n",
       "    </tr>\n",
       "    <tr>\n",
       "      <th>release_year</th>\n",
       "      <td>0.484502</td>\n",
       "      <td>0.169882</td>\n",
       "      <td>0.217755</td>\n",
       "      <td>0.128270</td>\n",
       "      <td>-0.103767</td>\n",
       "      <td>0.182409</td>\n",
       "      <td>-0.128344</td>\n",
       "      <td>1.000000</td>\n",
       "      <td>0.111404</td>\n",
       "      <td>-0.013536</td>\n",
       "    </tr>\n",
       "    <tr>\n",
       "      <th>budget_adj</th>\n",
       "      <td>-0.161177</td>\n",
       "      <td>0.486096</td>\n",
       "      <td>0.967213</td>\n",
       "      <td>0.696864</td>\n",
       "      <td>0.293687</td>\n",
       "      <td>0.569737</td>\n",
       "      <td>0.115151</td>\n",
       "      <td>0.111404</td>\n",
       "      <td>1.000000</td>\n",
       "      <td>0.630160</td>\n",
       "    </tr>\n",
       "    <tr>\n",
       "      <th>revenue_adj</th>\n",
       "      <td>-0.119847</td>\n",
       "      <td>0.594809</td>\n",
       "      <td>0.602990</td>\n",
       "      <td>0.915085</td>\n",
       "      <td>0.239720</td>\n",
       "      <td>0.695303</td>\n",
       "      <td>0.244492</td>\n",
       "      <td>-0.013536</td>\n",
       "      <td>0.630160</td>\n",
       "      <td>1.000000</td>\n",
       "    </tr>\n",
       "  </tbody>\n",
       "</table>\n",
       "</div>"
      ],
      "text/plain": [
       "                    id  popularity    budget   revenue   runtime  vote_count  \\\n",
       "id            1.000000    0.059001 -0.101641 -0.067851 -0.082703    0.012479   \n",
       "popularity    0.059001    1.000000  0.521981  0.653280  0.189413    0.798939   \n",
       "budget       -0.101641    0.521981  1.000000  0.725662  0.249326    0.618222   \n",
       "revenue      -0.067851    0.653280  0.725662  1.000000  0.220666    0.782714   \n",
       "runtime      -0.082703    0.189413  0.249326  0.220666  1.000000    0.227124   \n",
       "vote_count    0.012479    0.798939  0.618222  0.782714  0.227124    1.000000   \n",
       "vote_average -0.091744    0.272979  0.100464  0.217408  0.260809    0.320417   \n",
       "release_year  0.484502    0.169882  0.217755  0.128270 -0.103767    0.182409   \n",
       "budget_adj   -0.161177    0.486096  0.967213  0.696864  0.293687    0.569737   \n",
       "revenue_adj  -0.119847    0.594809  0.602990  0.915085  0.239720    0.695303   \n",
       "\n",
       "              vote_average  release_year  budget_adj  revenue_adj  \n",
       "id               -0.091744      0.484502   -0.161177    -0.119847  \n",
       "popularity        0.272979      0.169882    0.486096     0.594809  \n",
       "budget            0.100464      0.217755    0.967213     0.602990  \n",
       "revenue           0.217408      0.128270    0.696864     0.915085  \n",
       "runtime           0.260809     -0.103767    0.293687     0.239720  \n",
       "vote_count        0.320417      0.182409    0.569737     0.695303  \n",
       "vote_average      1.000000     -0.128344    0.115151     0.244492  \n",
       "release_year     -0.128344      1.000000    0.111404    -0.013536  \n",
       "budget_adj        0.115151      0.111404    1.000000     0.630160  \n",
       "revenue_adj       0.244492     -0.013536    0.630160     1.000000  "
      ]
     },
     "execution_count": 192,
     "metadata": {},
     "output_type": "execute_result"
    }
   ],
   "source": [
    "# correlation table\n",
    "df.corr()"
   ]
  },
  {
   "cell_type": "code",
   "execution_count": 193,
   "metadata": {},
   "outputs": [],
   "source": [
    "def plotScatter(df, x, y):\n",
    "    '''\n",
    "    Plots a correlation plot (scatterplot) between two variables\n",
    "    Args:\n",
    "        df (DataFrame): desirted data contaning x and y variables\n",
    "        x (str): x variable, usually a Series in df\n",
    "        y (str): y variable, usually a Series in df\n",
    "    Output:\n",
    "        A sctter plot of x and y variables\n",
    "    '''\n",
    "    plt.figure(figsize=(10,8));\n",
    "    plt.scatter(df[x], df[y]);\n",
    "    x = x.replace('_', ' ').title()\n",
    "    y = y.replace('_', ' ').title()\n",
    "    plt.xlabel(x, fontsize=10);\n",
    "    plt.ylabel(y, fontsize=10);\n",
    "    plt.title(f'Scatterplot showing correlation between {x}, and {y}', fontsize=15)"
   ]
  },
  {
   "cell_type": "code",
   "execution_count": 194,
   "metadata": {},
   "outputs": [
    {
     "data": {
      "image/png": "[encoded data removed]",
      "text/plain": [
       "<Figure size 720x576 with 1 Axes>"
      ]
     },
     "metadata": {
      "needs_background": "light"
     },
     "output_type": "display_data"
    }
   ],
   "source": [
    "plotScatter(df, 'revenue_adj', 'vote_count')"
   ]
  },
  {
   "cell_type": "code",
   "execution_count": 195,
   "metadata": {},
   "outputs": [
    {
     "data": {
      "image/png": "[encoded data removed]",
      "text/plain": [
       "<Figure size 720x576 with 1 Axes>"
      ]
     },
     "metadata": {
      "needs_background": "light"
     },
     "output_type": "display_data"
    }
   ],
   "source": [
    "plotScatter(df, 'revenue_adj', 'budget_adj')"
   ]
  },
  {
   "cell_type": "code",
   "execution_count": 196,
   "metadata": {},
   "outputs": [
    {
     "data": {
      "image/png": "[encoded data removed]",
      "text/plain": [
       "<Figure size 720x576 with 1 Axes>"
      ]
     },
     "metadata": {
      "needs_background": "light"
     },
     "output_type": "display_data"
    }
   ],
   "source": [
    "plotScatter(df, 'revenue_adj', 'popularity')"
   ]
  },
  {
   "cell_type": "markdown",
   "metadata": {},
   "source": [
    "**budget**, **vote_count**, and **popularity** are associated with high revenue movies"
   ]
  },
  {
   "cell_type": "markdown",
   "metadata": {},
   "source": [
    "### How many movies are no budget movies and how do they compare in popularity and total vote average to movies with a budget?"
   ]
  },
  {
   "cell_type": "code",
   "execution_count": 197,
   "metadata": {},
   "outputs": [
    {
     "name": "stdout",
     "output_type": "stream",
     "text": [
      "There are 2766 no-budget movies\n",
      "There are 4265 movies with a financial budget \n",
      "\n",
      "No-budget movies have a total popularity of: 1089\n",
      "Movies with a financial budget have a total popularity of: 4743 \n",
      "\n",
      "No-budget movies have a total vote average of: 16303\n",
      "Movies with a financail budget have a total vote average of: 25977 \n",
      "\n",
      "On an average, no-budget movies make around 9419484 USD\n",
      "On an average, movies with a financial budget make around 119907511 USD\n"
     ]
    }
   ],
   "source": [
    "noBudget = df[df.budget.isin([0])]\n",
    "budget = df[~df.budget.isin([0])]\n",
    "\n",
    "noBudget.reset_index(inplace=True)\n",
    "budget.reset_index(inplace=True)\n",
    "\n",
    "print('There are', noBudget.shape[0], 'no-budget movies')\n",
    "print('There are', budget.shape[0], 'movies with a financial budget', '\\n')\n",
    "\n",
    "print('No-budget movies have a total popularity of:', round(noBudget.popularity.sum()))\n",
    "print('Movies with a financial budget have a total popularity of:', round(budget.popularity.sum()), '\\n')\n",
    "\n",
    "print('No-budget movies have a total vote average of:', round(noBudget.vote_average.sum()))\n",
    "print('Movies with a financail budget have a total vote average of:', round(budget.vote_average.sum()), '\\n')\n",
    "\n",
    "print('On an average, no-budget movies make around', round(noBudget.revenue_adj.mean()), 'USD')\n",
    "print('On an average, movies with a financial budget make around', round(budget.revenue_adj.mean()), 'USD')"
   ]
  },
  {
   "cell_type": "markdown",
   "metadata": {},
   "source": [
    "we can see that **popularity**, **vote_average**, and **revenue_adj**... moves that have a financial budget perform better than no-budget movies"
   ]
  },
  {
   "cell_type": "code",
   "execution_count": 198,
   "metadata": {},
   "outputs": [
    {
     "data": {
      "text/html": [
       "<div>\n",
       "<style scoped>\n",
       "    .dataframe tbody tr th:only-of-type {\n",
       "        vertical-align: middle;\n",
       "    }\n",
       "\n",
       "    .dataframe tbody tr th {\n",
       "        vertical-align: top;\n",
       "    }\n",
       "\n",
       "    .dataframe thead th {\n",
       "        text-align: right;\n",
       "    }\n",
       "</style>\n",
       "<table border=\"1\" class=\"dataframe\">\n",
       "  <thead>\n",
       "    <tr style=\"text-align: right;\">\n",
       "      <th></th>\n",
       "      <th>id</th>\n",
       "      <th>popularity</th>\n",
       "      <th>budget</th>\n",
       "      <th>revenue</th>\n",
       "      <th>runtime</th>\n",
       "      <th>vote_count</th>\n",
       "      <th>vote_average</th>\n",
       "      <th>release_year</th>\n",
       "      <th>budget_adj</th>\n",
       "      <th>revenue_adj</th>\n",
       "    </tr>\n",
       "  </thead>\n",
       "  <tbody>\n",
       "    <tr>\n",
       "      <th>count</th>\n",
       "      <td>7031.000000</td>\n",
       "      <td>7031.000000</td>\n",
       "      <td>7.031000e+03</td>\n",
       "      <td>7.031000e+03</td>\n",
       "      <td>7031.000000</td>\n",
       "      <td>7031.000000</td>\n",
       "      <td>7031.000000</td>\n",
       "      <td>7031.000000</td>\n",
       "      <td>7.031000e+03</td>\n",
       "      <td>7.031000e+03</td>\n",
       "    </tr>\n",
       "    <tr>\n",
       "      <th>mean</th>\n",
       "      <td>51930.810411</td>\n",
       "      <td>0.829496</td>\n",
       "      <td>2.084295e+07</td>\n",
       "      <td>5.932460e+07</td>\n",
       "      <td>104.839994</td>\n",
       "      <td>312.713128</td>\n",
       "      <td>6.013384</td>\n",
       "      <td>1999.382307</td>\n",
       "      <td>2.500879e+07</td>\n",
       "      <td>7.644145e+07</td>\n",
       "    </tr>\n",
       "    <tr>\n",
       "      <th>std</th>\n",
       "      <td>81407.049737</td>\n",
       "      <td>1.180266</td>\n",
       "      <td>3.602356e+07</td>\n",
       "      <td>1.404161e+08</td>\n",
       "      <td>23.804709</td>\n",
       "      <td>693.227171</td>\n",
       "      <td>0.876495</td>\n",
       "      <td>13.468579</td>\n",
       "      <td>3.953511e+07</td>\n",
       "      <td>1.730470e+08</td>\n",
       "    </tr>\n",
       "    <tr>\n",
       "      <th>min</th>\n",
       "      <td>5.000000</td>\n",
       "      <td>0.000188</td>\n",
       "      <td>0.000000e+00</td>\n",
       "      <td>0.000000e+00</td>\n",
       "      <td>0.000000</td>\n",
       "      <td>10.000000</td>\n",
       "      <td>1.500000</td>\n",
       "      <td>1960.000000</td>\n",
       "      <td>0.000000e+00</td>\n",
       "      <td>0.000000e+00</td>\n",
       "    </tr>\n",
       "    <tr>\n",
       "      <th>25%</th>\n",
       "      <td>9540.500000</td>\n",
       "      <td>0.278563</td>\n",
       "      <td>0.000000e+00</td>\n",
       "      <td>0.000000e+00</td>\n",
       "      <td>92.000000</td>\n",
       "      <td>24.000000</td>\n",
       "      <td>5.500000</td>\n",
       "      <td>1992.000000</td>\n",
       "      <td>0.000000e+00</td>\n",
       "      <td>0.000000e+00</td>\n",
       "    </tr>\n",
       "    <tr>\n",
       "      <th>50%</th>\n",
       "      <td>14741.000000</td>\n",
       "      <td>0.506241</td>\n",
       "      <td>5.000000e+06</td>\n",
       "      <td>4.858139e+06</td>\n",
       "      <td>101.000000</td>\n",
       "      <td>73.000000</td>\n",
       "      <td>6.100000</td>\n",
       "      <td>2003.000000</td>\n",
       "      <td>6.951084e+06</td>\n",
       "      <td>6.448898e+06</td>\n",
       "    </tr>\n",
       "    <tr>\n",
       "      <th>75%</th>\n",
       "      <td>46983.500000</td>\n",
       "      <td>0.956339</td>\n",
       "      <td>2.600000e+07</td>\n",
       "      <td>5.472242e+07</td>\n",
       "      <td>114.000000</td>\n",
       "      <td>263.000000</td>\n",
       "      <td>6.600000</td>\n",
       "      <td>2010.000000</td>\n",
       "      <td>3.463336e+07</td>\n",
       "      <td>7.526298e+07</td>\n",
       "    </tr>\n",
       "    <tr>\n",
       "      <th>max</th>\n",
       "      <td>417859.000000</td>\n",
       "      <td>32.985763</td>\n",
       "      <td>4.250000e+08</td>\n",
       "      <td>2.781506e+09</td>\n",
       "      <td>705.000000</td>\n",
       "      <td>9767.000000</td>\n",
       "      <td>8.400000</td>\n",
       "      <td>2015.000000</td>\n",
       "      <td>4.250000e+08</td>\n",
       "      <td>2.827124e+09</td>\n",
       "    </tr>\n",
       "  </tbody>\n",
       "</table>\n",
       "</div>"
      ],
      "text/plain": [
       "                  id   popularity        budget       revenue      runtime  \\\n",
       "count    7031.000000  7031.000000  7.031000e+03  7.031000e+03  7031.000000   \n",
       "mean    51930.810411     0.829496  2.084295e+07  5.932460e+07   104.839994   \n",
       "std     81407.049737     1.180266  3.602356e+07  1.404161e+08    23.804709   \n",
       "min         5.000000     0.000188  0.000000e+00  0.000000e+00     0.000000   \n",
       "25%      9540.500000     0.278563  0.000000e+00  0.000000e+00    92.000000   \n",
       "50%     14741.000000     0.506241  5.000000e+06  4.858139e+06   101.000000   \n",
       "75%     46983.500000     0.956339  2.600000e+07  5.472242e+07   114.000000   \n",
       "max    417859.000000    32.985763  4.250000e+08  2.781506e+09   705.000000   \n",
       "\n",
       "        vote_count  vote_average  release_year    budget_adj   revenue_adj  \n",
       "count  7031.000000   7031.000000   7031.000000  7.031000e+03  7.031000e+03  \n",
       "mean    312.713128      6.013384   1999.382307  2.500879e+07  7.644145e+07  \n",
       "std     693.227171      0.876495     13.468579  3.953511e+07  1.730470e+08  \n",
       "min      10.000000      1.500000   1960.000000  0.000000e+00  0.000000e+00  \n",
       "25%      24.000000      5.500000   1992.000000  0.000000e+00  0.000000e+00  \n",
       "50%      73.000000      6.100000   2003.000000  6.951084e+06  6.448898e+06  \n",
       "75%     263.000000      6.600000   2010.000000  3.463336e+07  7.526298e+07  \n",
       "max    9767.000000      8.400000   2015.000000  4.250000e+08  2.827124e+09  "
      ]
     },
     "execution_count": 198,
     "metadata": {},
     "output_type": "execute_result"
    }
   ],
   "source": [
    "df.describe()"
   ]
  },
  {
   "cell_type": "markdown",
   "metadata": {},
   "source": [
    "### Most popular actors in an action film"
   ]
  },
  {
   "cell_type": "code",
   "execution_count": 199,
   "metadata": {},
   "outputs": [
    {
     "data": {
      "text/html": [
       "<div>\n",
       "<style scoped>\n",
       "    .dataframe tbody tr th:only-of-type {\n",
       "        vertical-align: middle;\n",
       "    }\n",
       "\n",
       "    .dataframe tbody tr th {\n",
       "        vertical-align: top;\n",
       "    }\n",
       "\n",
       "    .dataframe thead th {\n",
       "        text-align: right;\n",
       "    }\n",
       "</style>\n",
       "<table border=\"1\" class=\"dataframe\">\n",
       "  <thead>\n",
       "    <tr style=\"text-align: right;\">\n",
       "      <th></th>\n",
       "      <th>cast</th>\n",
       "      <th>Number of movies</th>\n",
       "      <th>Average Popularity</th>\n",
       "    </tr>\n",
       "  </thead>\n",
       "  <tbody>\n",
       "    <tr>\n",
       "      <th>24</th>\n",
       "      <td>Tom Hardy</td>\n",
       "      <td>7</td>\n",
       "      <td>6.940143</td>\n",
       "    </tr>\n",
       "    <tr>\n",
       "      <th>44</th>\n",
       "      <td>Mark Hamill</td>\n",
       "      <td>6</td>\n",
       "      <td>5.698868</td>\n",
       "    </tr>\n",
       "    <tr>\n",
       "      <th>55</th>\n",
       "      <td>Scarlett Johansson</td>\n",
       "      <td>8</td>\n",
       "      <td>5.274914</td>\n",
       "    </tr>\n",
       "    <tr>\n",
       "      <th>59</th>\n",
       "      <td>Zoe Saldana</td>\n",
       "      <td>6</td>\n",
       "      <td>5.058994</td>\n",
       "    </tr>\n",
       "    <tr>\n",
       "      <th>67</th>\n",
       "      <td>Orlando Bloom</td>\n",
       "      <td>9</td>\n",
       "      <td>4.822856</td>\n",
       "    </tr>\n",
       "    <tr>\n",
       "      <th>68</th>\n",
       "      <td>Vincent D'Onofrio</td>\n",
       "      <td>8</td>\n",
       "      <td>4.771668</td>\n",
       "    </tr>\n",
       "    <tr>\n",
       "      <th>73</th>\n",
       "      <td>Charlize Theron</td>\n",
       "      <td>8</td>\n",
       "      <td>4.558355</td>\n",
       "    </tr>\n",
       "    <tr>\n",
       "      <th>84</th>\n",
       "      <td>Viggo Mortensen</td>\n",
       "      <td>6</td>\n",
       "      <td>4.379407</td>\n",
       "    </tr>\n",
       "    <tr>\n",
       "      <th>101</th>\n",
       "      <td>Ian McKellen</td>\n",
       "      <td>9</td>\n",
       "      <td>3.935841</td>\n",
       "    </tr>\n",
       "    <tr>\n",
       "      <th>109</th>\n",
       "      <td>Kate Beckinsale</td>\n",
       "      <td>7</td>\n",
       "      <td>3.847188</td>\n",
       "    </tr>\n",
       "  </tbody>\n",
       "</table>\n",
       "</div>"
      ],
      "text/plain": [
       "                   cast  Number of movies  Average Popularity\n",
       "24            Tom Hardy                 7            6.940143\n",
       "44          Mark Hamill                 6            5.698868\n",
       "55   Scarlett Johansson                 8            5.274914\n",
       "59          Zoe Saldana                 6            5.058994\n",
       "67        Orlando Bloom                 9            4.822856\n",
       "68    Vincent D'Onofrio                 8            4.771668\n",
       "73      Charlize Theron                 8            4.558355\n",
       "84      Viggo Mortensen                 6            4.379407\n",
       "101        Ian McKellen                 9            3.935841\n",
       "109     Kate Beckinsale                 7            3.847188"
      ]
     },
     "execution_count": 199,
     "metadata": {},
     "output_type": "execute_result"
    }
   ],
   "source": [
    "# to betther do this, explode genres and query for action. Then explode cast and find the most popular actor\n",
    "dfAction = df.explode('genres').query('genres == \"Action\"')\n",
    "dfActionCast = dfAction.explode('cast')\n",
    "dfActionCast = dfActionCast.groupby('cast')['popularity'].agg([('Number of movies', 'count'), ('Average Popularity', 'mean')]).sort_values('Average Popularity', ascending=False)\n",
    "dfActionCast.reset_index(inplace=True)\n",
    "dfActionCast[dfActionCast['Number of movies'] > 5][:10]"
   ]
  },
  {
   "cell_type": "code",
   "execution_count": 200,
   "metadata": {},
   "outputs": [
    {
     "data": {
      "text/html": [
       "<div>\n",
       "<style scoped>\n",
       "    .dataframe tbody tr th:only-of-type {\n",
       "        vertical-align: middle;\n",
       "    }\n",
       "\n",
       "    .dataframe tbody tr th {\n",
       "        vertical-align: top;\n",
       "    }\n",
       "\n",
       "    .dataframe thead th {\n",
       "        text-align: right;\n",
       "    }\n",
       "</style>\n",
       "<table border=\"1\" class=\"dataframe\">\n",
       "  <thead>\n",
       "    <tr style=\"text-align: right;\">\n",
       "      <th></th>\n",
       "      <th>cast</th>\n",
       "      <th>genres</th>\n",
       "      <th>popularity</th>\n",
       "    </tr>\n",
       "  </thead>\n",
       "  <tbody>\n",
       "    <tr>\n",
       "      <th>1339</th>\n",
       "      <td>Chris Pratt</td>\n",
       "      <td>Action</td>\n",
       "      <td>47.296968</td>\n",
       "    </tr>\n",
       "    <tr>\n",
       "      <th>2814</th>\n",
       "      <td>Irrfan Khan</td>\n",
       "      <td>Action</td>\n",
       "      <td>32.985763</td>\n",
       "    </tr>\n",
       "    <tr>\n",
       "      <th>6988</th>\n",
       "      <td>Vincent D'Onofrio</td>\n",
       "      <td>Action</td>\n",
       "      <td>32.985763</td>\n",
       "    </tr>\n",
       "    <tr>\n",
       "      <th>1045</th>\n",
       "      <td>Bryce Dallas Howard</td>\n",
       "      <td>Action</td>\n",
       "      <td>32.985763</td>\n",
       "    </tr>\n",
       "    <tr>\n",
       "      <th>5295</th>\n",
       "      <td>Nick Robinson</td>\n",
       "      <td>Action</td>\n",
       "      <td>32.985763</td>\n",
       "    </tr>\n",
       "    <tr>\n",
       "      <th>5256</th>\n",
       "      <td>Nicholas Hoult</td>\n",
       "      <td>Action</td>\n",
       "      <td>28.930232</td>\n",
       "    </tr>\n",
       "    <tr>\n",
       "      <th>2741</th>\n",
       "      <td>Hugh Keays-Byrne</td>\n",
       "      <td>Action</td>\n",
       "      <td>28.419936</td>\n",
       "    </tr>\n",
       "    <tr>\n",
       "      <th>6803</th>\n",
       "      <td>Tom Hardy</td>\n",
       "      <td>Action</td>\n",
       "      <td>28.419936</td>\n",
       "    </tr>\n",
       "    <tr>\n",
       "      <th>3624</th>\n",
       "      <td>Josh Helman</td>\n",
       "      <td>Action</td>\n",
       "      <td>28.419936</td>\n",
       "    </tr>\n",
       "    <tr>\n",
       "      <th>1252</th>\n",
       "      <td>Charlize Theron</td>\n",
       "      <td>Action</td>\n",
       "      <td>28.419936</td>\n",
       "    </tr>\n",
       "  </tbody>\n",
       "</table>\n",
       "</div>"
      ],
      "text/plain": [
       "                     cast  genres  popularity\n",
       "1339          Chris Pratt  Action   47.296968\n",
       "2814          Irrfan Khan  Action   32.985763\n",
       "6988    Vincent D'Onofrio  Action   32.985763\n",
       "1045  Bryce Dallas Howard  Action   32.985763\n",
       "5295        Nick Robinson  Action   32.985763\n",
       "5256       Nicholas Hoult  Action   28.930232\n",
       "2741     Hugh Keays-Byrne  Action   28.419936\n",
       "6803            Tom Hardy  Action   28.419936\n",
       "3624          Josh Helman  Action   28.419936\n",
       "1252      Charlize Theron  Action   28.419936"
      ]
     },
     "execution_count": 200,
     "metadata": {},
     "output_type": "execute_result"
    }
   ],
   "source": [
    "dfActionActor = df.query('release_year == 2015 or release_year == 2014')\n",
    "dfActionActor = dfActionActor.explode('cast')\n",
    "dfActionActor = dfActionActor.explode('genres')\n",
    "dfActionActor = dfActionActor.groupby(by=['cast', 'genres']).sum()['popularity']\n",
    "dfActionActor = dfActionActor.reset_index()\n",
    "dfActionActor = dfActionActor.query('genres == \"Action\"')\n",
    "dfActionActor = dfActionActor.sort_values(by=['popularity'], ascending=False)\n",
    "dfActionActor.head(10)"
   ]
  },
  {
   "cell_type": "markdown",
   "metadata": {},
   "source": [
    "## Conclusions\n",
    "\n",
    "In Summary and as the data suggests, a high performing movie would require a budget. The average budget spent on a movie is, **25,008,790 USD** but well assured the invested money will yeild high returns as the averge revenuw on a movie is, **76,441,450 USD** which is thrice the average budget spend\n",
    "\n",
    "<br>\n",
    "\n",
    "The fans love a good action movie so if you want you movie to be very popular, it should be an action movie and you probably wanna cast actors like, **Chris Pratt**, **Irrfan Khan**, and **Vincent D'Onofrio**\n",
    "\n",
    "<br>\n",
    "\n",
    "**Some limitations of the data are:**\n",
    "- The dat ahs missing values\n",
    "- The data has duplicates\n",
    "- There is no documentation for the data to explain the varaibles\n",
    "- \"year\" in the \"release_date\" column is different from the \"release_year\" column"
   ]
  },
  {
   "cell_type": "code",
   "execution_count": 201,
   "metadata": {},
   "outputs": [],
   "source": [
    "# jupyter nbconvert --to html tmdbAnalysis.ipynb"
   ]
  }
 ],
 "metadata": {
  "interpreter": {
   "hash": "40d3a090f54c6569ab1632332b64b2c03c39dcf918b08424e98f38b5ae0af88f"
  },
  "kernelspec": {
   "display_name": "Python 3.8.8 ('base')",
   "language": "python",
   "name": "python3"
  },
  "language_info": {
   "codemirror_mode": {
    "name": "ipython",
    "version": 3
   },
   "file_extension": ".py",
   "mimetype": "text/x-python",
   "name": "python",
   "nbconvert_exporter": "python",
   "pygments_lexer": "ipython3",
   "version": "3.8.8"
  }
 },
 "nbformat": 4,
 "nbformat_minor": 2
}
