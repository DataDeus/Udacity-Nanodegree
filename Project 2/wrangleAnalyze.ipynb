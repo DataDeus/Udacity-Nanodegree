{
 "cells": [
  {
   "cell_type": "markdown",
   "metadata": {
    "extensions": {
     "jupyter_dashboards": {
      "version": 1,
      "views": {
       "grid_default": {
        "col": 0,
        "height": 4,
        "hidden": false,
        "row": 0,
        "width": 4
       },
       "report_default": {
        "hidden": false
       }
      }
     }
    }
   },
   "source": [
    "# Project: Wrangling and Analyze Data"
   ]
  },
  {
   "cell_type": "code",
   "execution_count": 528,
   "metadata": {},
   "outputs": [],
   "source": [
    "# install dependencies\n",
    "import seaborn as sns\n",
    "import pandas as pd\n",
    "import numpy as np\n",
    "import datetime\n",
    "import requests\n",
    "import tweepy \n",
    "import re"
   ]
  },
  {
   "cell_type": "markdown",
   "metadata": {},
   "source": [
    "## Data Gathering\n",
    "In the cell below, gather **all** three pieces of data for this project and load them in the notebook. **Note:** the methods required to gather each data are different.\n",
    "1. Directly download the WeRateDogs Twitter archive data (twitter_archive_enhanced.csv)"
   ]
  },
  {
   "cell_type": "code",
   "execution_count": 529,
   "metadata": {
    "extensions": {
     "jupyter_dashboards": {
      "version": 1,
      "views": {
       "grid_default": {
        "hidden": true
       },
       "report_default": {
        "hidden": true
       }
      }
     }
    }
   },
   "outputs": [],
   "source": [
    "archive  = pd.read_csv('twitter-archive-enhanced.csv')"
   ]
  },
  {
   "cell_type": "markdown",
   "metadata": {},
   "source": [
    "2. Use the Requests library to download the tweet image prediction (image_predictions.tsv)"
   ]
  },
  {
   "cell_type": "code",
   "execution_count": 530,
   "metadata": {},
   "outputs": [],
   "source": [
    "# function to write file from URL\n",
    "gather = lambda url, file: open(file, 'wb').write(requests.get(url).content)\n",
    "\n",
    "url = 'https://d17h27t6h515a5.cloudfront.net/topher/2017/August/599fd2ad_image-predictions/image-predictions.tsv'\n",
    "fileName = 'image_predictions.tsv'\n",
    "\n",
    "gather(url, fileName)\n",
    "\n",
    "images = pd.read_csv(fileName, sep='\\t')"
   ]
  },
  {
   "cell_type": "markdown",
   "metadata": {},
   "source": [
    "3. Use the Tweepy library to query additional data via the Twitter API (tweet_json.txt)"
   ]
  },
  {
   "cell_type": "code",
   "execution_count": 531,
   "metadata": {},
   "outputs": [],
   "source": [
    "url = 'https://video.udacity-data.com/topher/2018/November/5be5fb7d_tweet-json/tweet-json.txt'\n",
    "fileName = 'tweet_json.txt'\n",
    "\n",
    "gather(url, fileName)\n",
    "\n",
    "tweets = pd.read_json(fileName, lines=True)\n",
    "pd.options.display.max_columns = None"
   ]
  },
  {
   "cell_type": "markdown",
   "metadata": {
    "extensions": {
     "jupyter_dashboards": {
      "version": 1,
      "views": {
       "grid_default": {
        "col": 4,
        "height": 4,
        "hidden": false,
        "row": 28,
        "width": 4
       },
       "report_default": {
        "hidden": false
       }
      }
     }
    }
   },
   "source": [
    "## Assessing Data\n",
    "In this section, detect and document at least **eight (8) quality issues and two (2) tidiness issue**. You must use **both** visual assessment\n",
    "programmatic assessement to assess the data.\n",
    "\n",
    "**Note:** pay attention to the following key points when you access the data.\n",
    "\n",
    "* You only want original ratings (no retweets) that have images. Though there are 5000+ tweets in the dataset, not all are dog ratings and some are retweets.\n",
    "* Assessing and cleaning the entire dataset completely would require a lot of time, and is not necessary to practice and demonstrate your skills in data wrangling. Therefore, the requirements of this project are only to assess and clean at least 8 quality issues and at least 2 tidiness issues in this dataset.\n",
    "* The fact that the rating numerators are greater than the denominators does not need to be cleaned. This [unique rating system](http://knowyourmeme.com/memes/theyre-good-dogs-brent) is a big part of the popularity of WeRateDogs.\n",
    "* You do not need to gather the tweets beyond August 1st, 2017. You can, but note that you won't be able to gather the image predictions for these tweets since you don't have access to the algorithm used.\n",
    "\n"
   ]
  },
  {
   "cell_type": "markdown",
   "metadata": {},
   "source": [
    "### Quality issues\n",
    "\n",
    "1. _Archive table:_ missing **in_reply_to_status_id, in_reply_to_user_id, retweeted_status_user_id, retweeted_status_timestamp, expanded_urls** values and **source** field not necessary\n",
    "\n",
    "2. _Archive table:_ missrepresentation of missing data in **name, doggo, floofer, pupper, puppo** values - Missing data in theses columns is of type, 'None'(str) instead of np.nan(float)\n",
    "\n",
    "3. _Archive table:_ **timestamp** should be a datetime value\n",
    "\n",
    "4. _Archive table:_ some values in **name** have hidden dog names in the **text** field - for example, the value 'a' of index, 56, should actually be 'Wiley'\n",
    "\n",
    "5. _Archive table:_ some tweets are not dog ratings and are not retweets\n",
    "\n",
    "6. _Archive table:_ tweets beyond August 1st, 2017 are not needed.\n",
    "\n",
    "7. _Archive table:_ get only original tweets\n",
    "\n",
    "8. _Archive table:_ **rating_denominator** should have max of 10\n",
    "\n",
    "9. _Tweets table:_ missing **extended_entities, in_reply_to_status_id, in_reply_to_status_id_str, in_reply_to_user_id, in_reply_to_user_id_str, in_reply_to_screen_name, user, geo, coordinates, place, contributors, possibly_sensitive, possibly_sensitive_appealable, retweeted_status, quoted_status_id, quoted_status_id_str, quoted_status** values"
   ]
  },
  {
   "cell_type": "markdown",
   "metadata": {
    "extensions": {
     "jupyter_dashboards": {
      "version": 1,
      "views": {
       "grid_default": {
        "col": 0,
        "height": 7,
        "hidden": false,
        "row": 40,
        "width": 12
       },
       "report_default": {
        "hidden": false
       }
      }
     }
    }
   },
   "source": [
    "### Tidiness issues\n",
    "1. _Tweets table:_ **display_text_range** range should be a single value \n",
    "\n",
    "2. _Archive table:_ dog stage represented as 4 columns should be booleans "
   ]
  },
  {
   "cell_type": "markdown",
   "metadata": {
    "extensions": {
     "jupyter_dashboards": {
      "version": 1,
      "views": {
       "grid_default": {
        "col": 4,
        "height": 4,
        "hidden": false,
        "row": 32,
        "width": 4
       },
       "report_default": {
        "hidden": false
       }
      }
     }
    }
   },
   "source": [
    "## Cleaning Data\n",
    "In this section, clean **all** of the issues you documented while assessing. \n",
    "\n",
    "**Note:** Make a copy of the original data before cleaning. Cleaning includes merging individual pieces of data according to the rules of [tidy data](https://cran.r-project.org/web/packages/tidyr/vignettes/tidy-data.html). The result should be a high-quality and tidy master pandas DataFrame (or DataFrames, if appropriate)."
   ]
  },
  {
   "cell_type": "markdown",
   "metadata": {},
   "source": [
    "**values in retweet-id are retweets**\n",
    "<br>\n",
    "**Rating denominators are not all 10**"
   ]
  },
  {
   "cell_type": "code",
   "execution_count": 532,
   "metadata": {},
   "outputs": [],
   "source": [
    "# Make copies of original pieces of data\n",
    "tweetsCopy = tweets.copy()\n",
    "imagesCopy = images.copy()\n",
    "archiveCopy = archive.copy()"
   ]
  },
  {
   "cell_type": "markdown",
   "metadata": {},
   "source": [
    "### Issue 1: \n",
    "_Archive table:_ missing **in_reply_to_status_id, in_reply_to_user_id, retweeted_status_id, retweeted_status_user_id, retweeted_status_timestamp, expanded_urls** values\n",
    "\n",
    "#### Define:\n",
    "The data to replace these missing values is not available and also, some of the columns are not so important. so the decision is to drop these columns.\n",
    "\n",
    "#### Code"
   ]
  },
  {
   "cell_type": "code",
   "execution_count": 533,
   "metadata": {},
   "outputs": [],
   "source": [
    "columns = ['in_reply_to_status_id', 'in_reply_to_user_id', 'source',\n",
    "'retweeted_status_user_id', 'retweeted_status_timestamp', 'expanded_urls']\n",
    "archiveCopy.drop(columns=columns, axis=1, inplace=True)"
   ]
  },
  {
   "cell_type": "markdown",
   "metadata": {},
   "source": [
    "#### Test"
   ]
  },
  {
   "cell_type": "code",
   "execution_count": 534,
   "metadata": {},
   "outputs": [
    {
     "name": "stdout",
     "output_type": "stream",
     "text": [
      "These is the number of columns before cleaning: 17\n",
      "These is the number of columns after cleaning: 11\n"
     ]
    }
   ],
   "source": [
    "print('These is the number of columns before cleaning:', len(archive.columns))\n",
    "print('These is the number of columns after cleaning:', len(archiveCopy.columns))"
   ]
  },
  {
   "cell_type": "markdown",
   "metadata": {},
   "source": [
    "### Issue 2:\n",
    "_Archive table:_ missrepresentation of missing data in **name, doggo, floofer, pupper, puppo** values - Missing data in theses columns is of type, 'None'(str) instead of np.nan(float)\n",
    "\n",
    "#### Define:\n",
    "'None' values in **name, doggo, floofer, pupper, puppo** columns should be converted to np.nan\n",
    "#### Code"
   ]
  },
  {
   "cell_type": "code",
   "execution_count": 535,
   "metadata": {},
   "outputs": [],
   "source": [
    "archiveCopy[archiveCopy.loc[:] == 'None'] = np.nan;"
   ]
  },
  {
   "cell_type": "markdown",
   "metadata": {},
   "source": [
    "#### Test"
   ]
  },
  {
   "cell_type": "code",
   "execution_count": 536,
   "metadata": {},
   "outputs": [
    {
     "name": "stdout",
     "output_type": "stream",
     "text": [
      "<class 'pandas.core.frame.DataFrame'>\n",
      "RangeIndex: 2356 entries, 0 to 2355\n",
      "Data columns (total 11 columns):\n",
      " #   Column               Non-Null Count  Dtype  \n",
      "---  ------               --------------  -----  \n",
      " 0   tweet_id             2356 non-null   int64  \n",
      " 1   timestamp            2356 non-null   object \n",
      " 2   text                 2356 non-null   object \n",
      " 3   retweeted_status_id  181 non-null    float64\n",
      " 4   rating_numerator     2356 non-null   int64  \n",
      " 5   rating_denominator   2356 non-null   int64  \n",
      " 6   name                 1611 non-null   object \n",
      " 7   doggo                97 non-null     object \n",
      " 8   floofer              10 non-null     object \n",
      " 9   pupper               257 non-null    object \n",
      " 10  puppo                30 non-null     object \n",
      "dtypes: float64(1), int64(3), object(7)\n",
      "memory usage: 202.6+ KB\n"
     ]
    }
   ],
   "source": [
    "archiveCopy.info()"
   ]
  },
  {
   "cell_type": "markdown",
   "metadata": {},
   "source": [
    "### Issue 3:\n",
    "_Archive table:_ **timestamp** should be a datetime value\n",
    "\n",
    "#### Define:\n",
    "use the `pd.to_datetime()` to change the **timestamp** column from object to datetime\n",
    "#### Code"
   ]
  },
  {
   "cell_type": "code",
   "execution_count": 537,
   "metadata": {},
   "outputs": [],
   "source": [
    "archiveCopy.timestamp = pd.to_datetime(archiveCopy.timestamp, utc=False, infer_datetime_format=True)"
   ]
  },
  {
   "cell_type": "markdown",
   "metadata": {},
   "source": [
    "#### Test"
   ]
  },
  {
   "cell_type": "code",
   "execution_count": 538,
   "metadata": {},
   "outputs": [
    {
     "name": "stdout",
     "output_type": "stream",
     "text": [
      "This is the type of column before cleaning: <class 'str'>\n",
      "This is the type of column after cleaning: <class 'pandas._libs.tslibs.timestamps.Timestamp'>\n"
     ]
    }
   ],
   "source": [
    "print('This is the type of column before cleaning:', type(archive.timestamp[0]))\n",
    "print('This is the type of column after cleaning:', type(archiveCopy.timestamp[0]))"
   ]
  },
  {
   "cell_type": "markdown",
   "metadata": {},
   "source": [
    "### Issue 4:\n",
    "_Archive table:_ some values in **name** have hidden dog names in the **text** field - for example, the value 'a' of index, 56, should actually be 'Wiley'\n",
    "\n",
    "#### Define:\n",
    "\n",
    "1. Find all values in names that are not dog names\n",
    "2. for such values, check if a name exists in the **text** field\n",
    "2. if names exists, input name in the **name** field, else input a NaN value\n",
    "\n",
    "#### Code"
   ]
  },
  {
   "cell_type": "code",
   "execution_count": 539,
   "metadata": {},
   "outputs": [
    {
     "name": "stderr",
     "output_type": "stream",
     "text": [
      "/opt/anaconda3/lib/python3.8/site-packages/pandas/core/indexing.py:1637: SettingWithCopyWarning: \n",
      "A value is trying to be set on a copy of a slice from a DataFrame\n",
      "\n",
      "See the caveats in the documentation: https://pandas.pydata.org/pandas-docs/stable/user_guide/indexing.html#returning-a-view-versus-a-copy\n",
      "  self._setitem_single_block(indexer, value, name)\n"
     ]
    }
   ],
   "source": [
    "# find values in name fieldd that are not names of dogs\n",
    "values = set()\n",
    "for name in archiveCopy.name:\n",
    "    values.add(name)\n",
    "\n",
    "# copy the non name values into a list. ecluding NaN values, and values that do not have a name in the text field\n",
    "values = ['a', 'actually', 'all', 'an', 'by', 'getting', 'his', 'incredibly', 'infuriating', 'just', 'life', 'light', \n",
    "'mad', 'my', 'not','officially', 'old', 'one', 'quite', 'space', 'such', 'the', 'this', 'unacceptable', 'very'] \n",
    "# a(named/name is), an(named), his(That is), my(name is), one(for) - words in bracket are filters for texts with dog names\n",
    "\n",
    "# make a function to replace wrong value in name with the right dog name in text\n",
    "def change(value, sift, expression):\n",
    "    tempDF = archiveCopy.text[archiveCopy.name == value]\n",
    "    index = archiveCopy.text[archiveCopy.name == value].index\n",
    "\n",
    "    for row in tempDF:\n",
    "        if sift in row:\n",
    "            name = re.search(expression,row).group()\n",
    "            for i in index:\n",
    "                archiveCopy.name.iloc[i] = archiveCopy.name.iloc[i].replace(value, name);\n",
    "\n",
    "# function call on entries with  hidden dog names\n",
    "value = 'a'\n",
    "sift = 'named'\n",
    "expression = '(?<=named )(\\w+)'\n",
    "change(value, sift, expression)\n",
    "\n",
    "value = 'a'\n",
    "sift = 'name is'\n",
    "expression = '(?<=name is )(\\w+)'\n",
    "change(value, sift, expression)\n",
    "\n",
    "value = 'an'\n",
    "sift = 'named'\n",
    "expression = '(?<=named )(\\w+)'\n",
    "change(value, sift, expression)\n",
    "\n",
    "value = 'his'\n",
    "sift = 'That is'\n",
    "expression = '(?<=That is )(\\w+)'\n",
    "change(value, sift, expression)\n",
    "\n",
    "value = 'my'\n",
    "sift = 'name is'\n",
    "expression = '(?<=name is )(\\w+)'\n",
    "change(value, sift, expression)\n",
    "\n",
    "value = 'one'\n",
    "sift = 'for'\n",
    "expression = '(?<=for )(\\w+)'\n",
    "change(value, sift, expression)\n",
    "\n",
    "for item in values:\n",
    "    archiveCopy[archiveCopy.loc[:] == item] = np.nan"
   ]
  },
  {
   "cell_type": "markdown",
   "metadata": {},
   "source": [
    "#### Test"
   ]
  },
  {
   "cell_type": "code",
   "execution_count": 540,
   "metadata": {},
   "outputs": [
    {
     "name": "stdout",
     "output_type": "stream",
     "text": [
      "This is the cell of index 56 before cleaning: a\n",
      "This is the cell of index 56 after cleaning: Wylie \n",
      "\n",
      "<class 'pandas.core.frame.DataFrame'>\n",
      "RangeIndex: 2356 entries, 0 to 2355\n",
      "Data columns (total 11 columns):\n",
      " #   Column               Non-Null Count  Dtype         \n",
      "---  ------               --------------  -----         \n",
      " 0   tweet_id             2356 non-null   int64         \n",
      " 1   timestamp            2356 non-null   datetime64[ns]\n",
      " 2   text                 2356 non-null   object        \n",
      " 3   retweeted_status_id  181 non-null    float64       \n",
      " 4   rating_numerator     2356 non-null   int64         \n",
      " 5   rating_denominator   2356 non-null   int64         \n",
      " 6   name                 1570 non-null   object        \n",
      " 7   doggo                97 non-null     object        \n",
      " 8   floofer              10 non-null     object        \n",
      " 9   pupper               257 non-null    object        \n",
      " 10  puppo                30 non-null     object        \n",
      "dtypes: datetime64[ns](1), float64(1), int64(3), object(6)\n",
      "memory usage: 202.6+ KB\n"
     ]
    }
   ],
   "source": [
    "print('This is the cell of index 56 before cleaning:', archive.name.iloc[56])\n",
    "print('This is the cell of index 56 after cleaning:', archiveCopy.name.iloc[56], '\\n') #or quinzo in 992\n",
    "archiveCopy.info()"
   ]
  },
  {
   "cell_type": "markdown",
   "metadata": {},
   "source": [
    "### Issue 5:\n",
    "_Archive table:_ some tweets are not dog ratings and are not retweets\n",
    "\n",
    "#### Define:\n",
    "filter the image predictions for only true values and perform an outer join with the twitter archive to get only dog ratings\n",
    "#### Code"
   ]
  },
  {
   "cell_type": "code",
   "execution_count": 541,
   "metadata": {},
   "outputs": [],
   "source": [
    "# filter for only imges that have p1_dog True because, p1_dog has the highest cofidence\n",
    "imagesCopy = imagesCopy[imagesCopy.p1_dog == True].reset_index(drop=True)\n",
    "\n",
    "# drop unecessary columns from imagesCopy\n",
    "columns = ['jpg_url', 'img_num', 'p1_dog', 'p1_conf', 'p2', 'p2_conf', 'p2_dog', 'p3', 'p3_conf', 'p3_dog']\n",
    "imagesCopy.drop(columns=columns, axis=1, inplace=True)\n",
    "\n",
    "# Join tables and rename the p1 column\n",
    "archiveCopy = archiveCopy.merge(imagesCopy, on='tweet_id', how='inner') #, lsuffix='left', rsuffix='right')\n",
    "archiveCopy.rename(columns={'p1':'dog_breed'}, inplace=True)"
   ]
  },
  {
   "cell_type": "markdown",
   "metadata": {},
   "source": [
    "#### Test"
   ]
  },
  {
   "cell_type": "code",
   "execution_count": 542,
   "metadata": {},
   "outputs": [
    {
     "name": "stdout",
     "output_type": "stream",
     "text": [
      "<class 'pandas.core.frame.DataFrame'>\n",
      "Int64Index: 1532 entries, 0 to 1531\n",
      "Data columns (total 12 columns):\n",
      " #   Column               Non-Null Count  Dtype         \n",
      "---  ------               --------------  -----         \n",
      " 0   tweet_id             1532 non-null   int64         \n",
      " 1   timestamp            1532 non-null   datetime64[ns]\n",
      " 2   text                 1532 non-null   object        \n",
      " 3   retweeted_status_id  55 non-null     float64       \n",
      " 4   rating_numerator     1532 non-null   int64         \n",
      " 5   rating_denominator   1532 non-null   int64         \n",
      " 6   name                 1131 non-null   object        \n",
      " 7   doggo                63 non-null     object        \n",
      " 8   floofer              8 non-null      object        \n",
      " 9   pupper               158 non-null    object        \n",
      " 10  puppo                20 non-null     object        \n",
      " 11  dog_breed            1532 non-null   object        \n",
      "dtypes: datetime64[ns](1), float64(1), int64(3), object(7)\n",
      "memory usage: 155.6+ KB\n"
     ]
    }
   ],
   "source": [
    "archiveCopy.info()"
   ]
  },
  {
   "cell_type": "markdown",
   "metadata": {},
   "source": [
    "### Issue 6:\n",
    "_Archive table:_ tweets beyond August 1st, 2017 are not needed.\n",
    "\n",
    "#### Define:\n",
    "filter for tweets before August 1st, 2017\n",
    "#### Code"
   ]
  },
  {
   "cell_type": "code",
   "execution_count": 543,
   "metadata": {},
   "outputs": [],
   "source": [
    "archiveCopy = archiveCopy[archiveCopy.timestamp < pd.Timestamp(2017,8,2).floor('D')]"
   ]
  },
  {
   "cell_type": "markdown",
   "metadata": {},
   "source": [
    "#### Test"
   ]
  },
  {
   "cell_type": "code",
   "execution_count": 544,
   "metadata": {},
   "outputs": [
    {
     "data": {
      "text/plain": [
       "Timestamp('2017-08-01 00:17:27')"
      ]
     },
     "execution_count": 544,
     "metadata": {},
     "output_type": "execute_result"
    }
   ],
   "source": [
    "archiveCopy.timestamp.max()"
   ]
  },
  {
   "cell_type": "markdown",
   "metadata": {},
   "source": [
    "### Issue 7:\n",
    "_Archive table:_ get only original tweets\n",
    "\n",
    "#### Define:\n",
    "filter the **retweeted_status_id** for NaN values\n",
    "#### Code"
   ]
  },
  {
   "cell_type": "code",
   "execution_count": 545,
   "metadata": {},
   "outputs": [],
   "source": [
    "# First RTs - filter the tweets for cases where retweeted_status_id == np.nan\n",
    "archiveCopy = archiveCopy[archiveCopy.retweeted_status_id.isin([np.nan])].reset_index(drop=True)\n",
    "\n",
    "# delete the retweeted_status_id' column\n",
    "archiveCopy.drop('retweeted_status_id', axis=1, inplace=True)\n",
    "\n",
    "# Remove QTs next\n",
    "columns = ['created_at','id_str', 'full_text', 'truncated', 'entities', 'extended_entities', 'source', 'in_reply_to_status_id', 'in_reply_to_status_id_str', \n",
    "'in_reply_to_user_id', 'in_reply_to_user_id_str','in_reply_to_screen_name', 'user', 'geo', 'coordinates', 'place', 'contributors','is_quote_status', \n",
    "'favorited', 'retweeted','possibly_sensitive_appealable', 'lang', 'retweeted_status', 'quoted_status_id_str', 'quoted_status', 'display_text_range', 'retweet_count', 'favorite_count', 'possibly_sensitive']\n",
    "\n",
    "tweetsCopy1 = tweetsCopy.drop(columns=columns, axis=1)\n",
    "tweetsCopy1.rename(columns={'id':'tweet_id'}, inplace=True)\n",
    "tweetsCopy1 = tweetsCopy1[tweetsCopy1.quoted_status_id.isin([np.nan])].reset_index(drop=True)\n",
    "archiveCopy = archiveCopy.merge(tweetsCopy1, on='tweet_id', how='inner')\n",
    "\n",
    "archiveCopy.drop('quoted_status_id', axis=1, inplace=True)"
   ]
  },
  {
   "cell_type": "markdown",
   "metadata": {},
   "source": [
    "#### Test"
   ]
  },
  {
   "cell_type": "code",
   "execution_count": 546,
   "metadata": {},
   "outputs": [
    {
     "name": "stdout",
     "output_type": "stream",
     "text": [
      "<class 'pandas.core.frame.DataFrame'>\n",
      "Int64Index: 1477 entries, 0 to 1476\n",
      "Data columns (total 11 columns):\n",
      " #   Column              Non-Null Count  Dtype         \n",
      "---  ------              --------------  -----         \n",
      " 0   tweet_id            1477 non-null   int64         \n",
      " 1   timestamp           1477 non-null   datetime64[ns]\n",
      " 2   text                1477 non-null   object        \n",
      " 3   rating_numerator    1477 non-null   int64         \n",
      " 4   rating_denominator  1477 non-null   int64         \n",
      " 5   name                1093 non-null   object        \n",
      " 6   doggo               58 non-null     object        \n",
      " 7   floofer             8 non-null      object        \n",
      " 8   pupper              152 non-null    object        \n",
      " 9   puppo               20 non-null     object        \n",
      " 10  dog_breed           1477 non-null   object        \n",
      "dtypes: datetime64[ns](1), int64(3), object(7)\n",
      "memory usage: 138.5+ KB\n"
     ]
    }
   ],
   "source": [
    "archiveCopy.info()"
   ]
  },
  {
   "cell_type": "markdown",
   "metadata": {},
   "source": [
    "### Issue 8:\n",
    "_Archive table:_ **rating_denominator** should have max of 10\n",
    "#### Define:\n",
    "convert all values in rating_denominator to 10\n",
    "#### Code"
   ]
  },
  {
   "cell_type": "code",
   "execution_count": 547,
   "metadata": {},
   "outputs": [],
   "source": [
    "integers = [0, 16, 120, 170, 15, 50, 80, 2, 7, 11, 20, 40, 70, 90, 110, 130, 150]\n",
    "archiveCopy[archiveCopy.rating_denominator.isin(integers)] = 10"
   ]
  },
  {
   "cell_type": "markdown",
   "metadata": {},
   "source": [
    "#### Test"
   ]
  },
  {
   "cell_type": "code",
   "execution_count": 548,
   "metadata": {},
   "outputs": [
    {
     "name": "stdout",
     "output_type": "stream",
     "text": [
      "This is the number of values before cleaning: 18\n",
      "This is the number of values after cleaning: 1\n"
     ]
    }
   ],
   "source": [
    "integers = len(archive.rating_denominator.value_counts().index)\n",
    "print('This is the number of values before cleaning:', integers)\n",
    "\n",
    "integers = len(archiveCopy.rating_denominator.value_counts().index)\n",
    "print('This is the number of values after cleaning:', integers)"
   ]
  },
  {
   "cell_type": "code",
   "execution_count": 549,
   "metadata": {},
   "outputs": [
    {
     "data": {
      "text/html": [
       "<div>\n",
       "<style scoped>\n",
       "    .dataframe tbody tr th:only-of-type {\n",
       "        vertical-align: middle;\n",
       "    }\n",
       "\n",
       "    .dataframe tbody tr th {\n",
       "        vertical-align: top;\n",
       "    }\n",
       "\n",
       "    .dataframe thead th {\n",
       "        text-align: right;\n",
       "    }\n",
       "</style>\n",
       "<table border=\"1\" class=\"dataframe\">\n",
       "  <thead>\n",
       "    <tr style=\"text-align: right;\">\n",
       "      <th></th>\n",
       "      <th>tweet_id</th>\n",
       "      <th>timestamp</th>\n",
       "      <th>text</th>\n",
       "      <th>rating_numerator</th>\n",
       "      <th>rating_denominator</th>\n",
       "      <th>name</th>\n",
       "      <th>doggo</th>\n",
       "      <th>floofer</th>\n",
       "      <th>pupper</th>\n",
       "      <th>puppo</th>\n",
       "      <th>dog_breed</th>\n",
       "    </tr>\n",
       "  </thead>\n",
       "  <tbody>\n",
       "    <tr>\n",
       "      <th>0</th>\n",
       "      <td>892177421306343426</td>\n",
       "      <td>2017-08-01 00:17:27</td>\n",
       "      <td>This is Tilly. She's just checking pup on you....</td>\n",
       "      <td>13</td>\n",
       "      <td>10</td>\n",
       "      <td>Tilly</td>\n",
       "      <td>NaN</td>\n",
       "      <td>NaN</td>\n",
       "      <td>NaN</td>\n",
       "      <td>NaN</td>\n",
       "      <td>Chihuahua</td>\n",
       "    </tr>\n",
       "    <tr>\n",
       "      <th>1</th>\n",
       "      <td>891815181378084864</td>\n",
       "      <td>2017-07-31 00:18:03</td>\n",
       "      <td>This is Archie. He is a rare Norwegian Pouncin...</td>\n",
       "      <td>12</td>\n",
       "      <td>10</td>\n",
       "      <td>Archie</td>\n",
       "      <td>NaN</td>\n",
       "      <td>NaN</td>\n",
       "      <td>NaN</td>\n",
       "      <td>NaN</td>\n",
       "      <td>Chihuahua</td>\n",
       "    </tr>\n",
       "    <tr>\n",
       "      <th>2</th>\n",
       "      <td>891327558926688256</td>\n",
       "      <td>2017-07-29 16:00:24</td>\n",
       "      <td>This is Franklin. He would like you to stop ca...</td>\n",
       "      <td>12</td>\n",
       "      <td>10</td>\n",
       "      <td>Franklin</td>\n",
       "      <td>NaN</td>\n",
       "      <td>NaN</td>\n",
       "      <td>NaN</td>\n",
       "      <td>NaN</td>\n",
       "      <td>basset</td>\n",
       "    </tr>\n",
       "    <tr>\n",
       "      <th>3</th>\n",
       "      <td>891087950875897856</td>\n",
       "      <td>2017-07-29 00:08:17</td>\n",
       "      <td>Here we have a majestic great white breaching ...</td>\n",
       "      <td>13</td>\n",
       "      <td>10</td>\n",
       "      <td>NaN</td>\n",
       "      <td>NaN</td>\n",
       "      <td>NaN</td>\n",
       "      <td>NaN</td>\n",
       "      <td>NaN</td>\n",
       "      <td>Chesapeake_Bay_retriever</td>\n",
       "    </tr>\n",
       "    <tr>\n",
       "      <th>4</th>\n",
       "      <td>890971913173991426</td>\n",
       "      <td>2017-07-28 16:27:12</td>\n",
       "      <td>Meet Jax. He enjoys ice cream so much he gets ...</td>\n",
       "      <td>13</td>\n",
       "      <td>10</td>\n",
       "      <td>Jax</td>\n",
       "      <td>NaN</td>\n",
       "      <td>NaN</td>\n",
       "      <td>NaN</td>\n",
       "      <td>NaN</td>\n",
       "      <td>Appenzeller</td>\n",
       "    </tr>\n",
       "    <tr>\n",
       "      <th>...</th>\n",
       "      <td>...</td>\n",
       "      <td>...</td>\n",
       "      <td>...</td>\n",
       "      <td>...</td>\n",
       "      <td>...</td>\n",
       "      <td>...</td>\n",
       "      <td>...</td>\n",
       "      <td>...</td>\n",
       "      <td>...</td>\n",
       "      <td>...</td>\n",
       "      <td>...</td>\n",
       "    </tr>\n",
       "    <tr>\n",
       "      <th>1472</th>\n",
       "      <td>666049248165822465</td>\n",
       "      <td>2015-11-16 00:24:50</td>\n",
       "      <td>Here we have a 1949 1st generation vulpix. Enj...</td>\n",
       "      <td>5</td>\n",
       "      <td>10</td>\n",
       "      <td>NaN</td>\n",
       "      <td>NaN</td>\n",
       "      <td>NaN</td>\n",
       "      <td>NaN</td>\n",
       "      <td>NaN</td>\n",
       "      <td>miniature_pinscher</td>\n",
       "    </tr>\n",
       "    <tr>\n",
       "      <th>1473</th>\n",
       "      <td>666044226329800704</td>\n",
       "      <td>2015-11-16 00:04:52</td>\n",
       "      <td>This is a purebred Piers Morgan. Loves to Netf...</td>\n",
       "      <td>6</td>\n",
       "      <td>10</td>\n",
       "      <td>Wylie</td>\n",
       "      <td>NaN</td>\n",
       "      <td>NaN</td>\n",
       "      <td>NaN</td>\n",
       "      <td>NaN</td>\n",
       "      <td>Rhodesian_ridgeback</td>\n",
       "    </tr>\n",
       "    <tr>\n",
       "      <th>1474</th>\n",
       "      <td>666033412701032449</td>\n",
       "      <td>2015-11-15 23:21:54</td>\n",
       "      <td>Here is a very happy pup. Big fan of well-main...</td>\n",
       "      <td>9</td>\n",
       "      <td>10</td>\n",
       "      <td>Wylie</td>\n",
       "      <td>NaN</td>\n",
       "      <td>NaN</td>\n",
       "      <td>NaN</td>\n",
       "      <td>NaN</td>\n",
       "      <td>German_shepherd</td>\n",
       "    </tr>\n",
       "    <tr>\n",
       "      <th>1475</th>\n",
       "      <td>666029285002620928</td>\n",
       "      <td>2015-11-15 23:05:30</td>\n",
       "      <td>This is a western brown Mitsubishi terrier. Up...</td>\n",
       "      <td>7</td>\n",
       "      <td>10</td>\n",
       "      <td>Wylie</td>\n",
       "      <td>NaN</td>\n",
       "      <td>NaN</td>\n",
       "      <td>NaN</td>\n",
       "      <td>NaN</td>\n",
       "      <td>redbone</td>\n",
       "    </tr>\n",
       "    <tr>\n",
       "      <th>1476</th>\n",
       "      <td>666020888022790149</td>\n",
       "      <td>2015-11-15 22:32:08</td>\n",
       "      <td>Here we have a Japanese Irish Setter. Lost eye...</td>\n",
       "      <td>8</td>\n",
       "      <td>10</td>\n",
       "      <td>NaN</td>\n",
       "      <td>NaN</td>\n",
       "      <td>NaN</td>\n",
       "      <td>NaN</td>\n",
       "      <td>NaN</td>\n",
       "      <td>Welsh_springer_spaniel</td>\n",
       "    </tr>\n",
       "  </tbody>\n",
       "</table>\n",
       "<p>1477 rows × 11 columns</p>\n",
       "</div>"
      ],
      "text/plain": [
       "                tweet_id            timestamp  \\\n",
       "0     892177421306343426  2017-08-01 00:17:27   \n",
       "1     891815181378084864  2017-07-31 00:18:03   \n",
       "2     891327558926688256  2017-07-29 16:00:24   \n",
       "3     891087950875897856  2017-07-29 00:08:17   \n",
       "4     890971913173991426  2017-07-28 16:27:12   \n",
       "...                  ...                  ...   \n",
       "1472  666049248165822465  2015-11-16 00:24:50   \n",
       "1473  666044226329800704  2015-11-16 00:04:52   \n",
       "1474  666033412701032449  2015-11-15 23:21:54   \n",
       "1475  666029285002620928  2015-11-15 23:05:30   \n",
       "1476  666020888022790149  2015-11-15 22:32:08   \n",
       "\n",
       "                                                   text  rating_numerator  \\\n",
       "0     This is Tilly. She's just checking pup on you....                13   \n",
       "1     This is Archie. He is a rare Norwegian Pouncin...                12   \n",
       "2     This is Franklin. He would like you to stop ca...                12   \n",
       "3     Here we have a majestic great white breaching ...                13   \n",
       "4     Meet Jax. He enjoys ice cream so much he gets ...                13   \n",
       "...                                                 ...               ...   \n",
       "1472  Here we have a 1949 1st generation vulpix. Enj...                 5   \n",
       "1473  This is a purebred Piers Morgan. Loves to Netf...                 6   \n",
       "1474  Here is a very happy pup. Big fan of well-main...                 9   \n",
       "1475  This is a western brown Mitsubishi terrier. Up...                 7   \n",
       "1476  Here we have a Japanese Irish Setter. Lost eye...                 8   \n",
       "\n",
       "      rating_denominator      name doggo floofer pupper puppo  \\\n",
       "0                     10     Tilly   NaN     NaN    NaN   NaN   \n",
       "1                     10    Archie   NaN     NaN    NaN   NaN   \n",
       "2                     10  Franklin   NaN     NaN    NaN   NaN   \n",
       "3                     10       NaN   NaN     NaN    NaN   NaN   \n",
       "4                     10       Jax   NaN     NaN    NaN   NaN   \n",
       "...                  ...       ...   ...     ...    ...   ...   \n",
       "1472                  10       NaN   NaN     NaN    NaN   NaN   \n",
       "1473                  10     Wylie   NaN     NaN    NaN   NaN   \n",
       "1474                  10     Wylie   NaN     NaN    NaN   NaN   \n",
       "1475                  10     Wylie   NaN     NaN    NaN   NaN   \n",
       "1476                  10       NaN   NaN     NaN    NaN   NaN   \n",
       "\n",
       "                     dog_breed  \n",
       "0                    Chihuahua  \n",
       "1                    Chihuahua  \n",
       "2                       basset  \n",
       "3     Chesapeake_Bay_retriever  \n",
       "4                  Appenzeller  \n",
       "...                        ...  \n",
       "1472        miniature_pinscher  \n",
       "1473       Rhodesian_ridgeback  \n",
       "1474           German_shepherd  \n",
       "1475                   redbone  \n",
       "1476    Welsh_springer_spaniel  \n",
       "\n",
       "[1477 rows x 11 columns]"
      ]
     },
     "execution_count": 549,
     "metadata": {},
     "output_type": "execute_result"
    }
   ],
   "source": [
    "archiveCopy"
   ]
  },
  {
   "cell_type": "markdown",
   "metadata": {},
   "source": [
    "### Issue 9:\n",
    "_Tweets table:_ missing **extended_entities, in_reply_to_status_id, in_reply_to_status_id_str, in_reply_to_user_id, in_reply_to_user_id_str, in_reply_to_screen_name, user, geo, coordinates, place, contributors, possibly_sensitive, possibly_sensitive_appealable, retweeted_status, quoted_status_id, quoted_status_id_str, quoted_status** values\n",
    "#### Define:\n",
    "#### Code"
   ]
  },
  {
   "cell_type": "code",
   "execution_count": 550,
   "metadata": {},
   "outputs": [],
   "source": [
    "columns = ['created_at','id_str', 'full_text', 'truncated', 'entities', 'extended_entities', 'source', 'in_reply_to_status_id', 'in_reply_to_status_id_str', \n",
    "'in_reply_to_user_id', 'in_reply_to_user_id_str','in_reply_to_screen_name', 'user', 'geo', 'coordinates', 'place', 'contributors','is_quote_status', \n",
    "'favorited', 'retweeted','possibly_sensitive_appealable', 'lang', 'retweeted_status', 'possibly_sensitive','quoted_status_id', 'quoted_status_id_str', 'quoted_status']\n",
    "\n",
    "tweetsCopy.drop(columns=columns, axis=1, inplace=True)"
   ]
  },
  {
   "cell_type": "markdown",
   "metadata": {},
   "source": [
    "#### Test"
   ]
  },
  {
   "cell_type": "code",
   "execution_count": 551,
   "metadata": {},
   "outputs": [
    {
     "name": "stdout",
     "output_type": "stream",
     "text": [
      "These is the number of columns before cleaning: 31\n",
      "These is the number of columns after cleaning: 4\n"
     ]
    }
   ],
   "source": [
    "print('These is the number of columns before cleaning:', len(tweets.columns))\n",
    "print('These is the number of columns after cleaning:', len(tweetsCopy.columns))"
   ]
  },
  {
   "cell_type": "markdown",
   "metadata": {},
   "source": [
    "### Issue 10:\n",
    "_Tweets table:_ **display_text_range** range should be a single value \n",
    "\n",
    "#### Define:\n",
    "input only the last element of each list in the display_text_range column\n",
    "#### Code"
   ]
  },
  {
   "cell_type": "code",
   "execution_count": 552,
   "metadata": {},
   "outputs": [],
   "source": [
    "list = []\n",
    "for row in tweetsCopy.display_text_range:\n",
    "    list.append(row[-1])\n",
    "len(list)\n",
    "\n",
    "tweetsCopy.display_text_range = pd.Series(list)\n",
    "\n",
    "# rename id column so as to join with archive\n",
    "tweetsCopy.rename(columns={'id':'tweet_id'}, inplace=True)\n",
    "archiveCopy = archiveCopy.merge(tweetsCopy, on='tweet_id', how='inner')"
   ]
  },
  {
   "cell_type": "markdown",
   "metadata": {},
   "source": [
    "#### Test"
   ]
  },
  {
   "cell_type": "code",
   "execution_count": 553,
   "metadata": {},
   "outputs": [
    {
     "name": "stdout",
     "output_type": "stream",
     "text": [
      "Type of display_text_range before cleaning: <class 'list'>\n",
      "Type of display_text_range after cleaning: <class 'numpy.int64'>\n"
     ]
    }
   ],
   "source": [
    "print('Type of display_text_range before cleaning:', type(tweets.display_text_range[0]))\n",
    "print('Type of display_text_range after cleaning:', type(tweetsCopy.display_text_range[0]))"
   ]
  },
  {
   "cell_type": "markdown",
   "metadata": {},
   "source": [
    "### Issue 11:\n",
    "_Archive table:_ dog stage represented as 4 columns should be categorical\n",
    "\n",
    "#### Define:\n",
    "fill hidden dog stages and then represent columns as booleans\n",
    "#### Code"
   ]
  },
  {
   "cell_type": "code",
   "execution_count": 554,
   "metadata": {},
   "outputs": [
    {
     "name": "stderr",
     "output_type": "stream",
     "text": [
      "/opt/anaconda3/lib/python3.8/site-packages/pandas/core/indexing.py:1637: SettingWithCopyWarning: \n",
      "A value is trying to be set on a copy of a slice from a DataFrame\n",
      "\n",
      "See the caveats in the documentation: https://pandas.pydata.org/pandas-docs/stable/user_guide/indexing.html#returning-a-view-versus-a-copy\n",
      "  self._setitem_single_block(indexer, value, name)\n"
     ]
    },
    {
     "data": {
      "text/html": [
       "<div>\n",
       "<style scoped>\n",
       "    .dataframe tbody tr th:only-of-type {\n",
       "        vertical-align: middle;\n",
       "    }\n",
       "\n",
       "    .dataframe tbody tr th {\n",
       "        vertical-align: top;\n",
       "    }\n",
       "\n",
       "    .dataframe thead th {\n",
       "        text-align: right;\n",
       "    }\n",
       "</style>\n",
       "<table border=\"1\" class=\"dataframe\">\n",
       "  <thead>\n",
       "    <tr style=\"text-align: right;\">\n",
       "      <th></th>\n",
       "      <th>tweet_id</th>\n",
       "      <th>timestamp</th>\n",
       "      <th>text</th>\n",
       "      <th>rating_numerator</th>\n",
       "      <th>rating_denominator</th>\n",
       "      <th>doggo</th>\n",
       "      <th>floofer</th>\n",
       "      <th>pupper</th>\n",
       "      <th>puppo</th>\n",
       "      <th>dog_breed</th>\n",
       "      <th>display_text_range</th>\n",
       "      <th>retweet_count</th>\n",
       "      <th>favorite_count</th>\n",
       "    </tr>\n",
       "  </thead>\n",
       "  <tbody>\n",
       "    <tr>\n",
       "      <th>0</th>\n",
       "      <td>890240255349198849</td>\n",
       "      <td>2017-07-26 15:59:51</td>\n",
       "      <td>This is Cassie. She is a college pup. Studying...</td>\n",
       "      <td>14</td>\n",
       "      <td>10</td>\n",
       "      <td>True</td>\n",
       "      <td>False</td>\n",
       "      <td>False</td>\n",
       "      <td>False</td>\n",
       "      <td>Pembroke</td>\n",
       "      <td>133</td>\n",
       "      <td>7711</td>\n",
       "      <td>32467</td>\n",
       "    </tr>\n",
       "    <tr>\n",
       "      <th>1</th>\n",
       "      <td>889665388333682689</td>\n",
       "      <td>2017-07-25 01:55:32</td>\n",
       "      <td>Here's a puppo that seems to be on the fence a...</td>\n",
       "      <td>13</td>\n",
       "      <td>10</td>\n",
       "      <td>False</td>\n",
       "      <td>False</td>\n",
       "      <td>False</td>\n",
       "      <td>True</td>\n",
       "      <td>Pembroke</td>\n",
       "      <td>106</td>\n",
       "      <td>8538</td>\n",
       "      <td>38818</td>\n",
       "    </tr>\n",
       "    <tr>\n",
       "      <th>2</th>\n",
       "      <td>889531135344209921</td>\n",
       "      <td>2017-07-24 17:02:04</td>\n",
       "      <td>This is Stuart. He's sporting his favorite fan...</td>\n",
       "      <td>13</td>\n",
       "      <td>10</td>\n",
       "      <td>False</td>\n",
       "      <td>False</td>\n",
       "      <td>False</td>\n",
       "      <td>True</td>\n",
       "      <td>golden_retriever</td>\n",
       "      <td>118</td>\n",
       "      <td>2321</td>\n",
       "      <td>15359</td>\n",
       "    </tr>\n",
       "    <tr>\n",
       "      <th>3</th>\n",
       "      <td>886366144734445568</td>\n",
       "      <td>2017-07-15 23:25:31</td>\n",
       "      <td>This is Roscoe. Another pupper fallen victim t...</td>\n",
       "      <td>12</td>\n",
       "      <td>10</td>\n",
       "      <td>False</td>\n",
       "      <td>False</td>\n",
       "      <td>True</td>\n",
       "      <td>False</td>\n",
       "      <td>French_bulldog</td>\n",
       "      <td>131</td>\n",
       "      <td>3316</td>\n",
       "      <td>21524</td>\n",
       "    </tr>\n",
       "    <tr>\n",
       "      <th>4</th>\n",
       "      <td>884162670584377345</td>\n",
       "      <td>2017-07-09 21:29:42</td>\n",
       "      <td>Meet Yogi. He doesn't have any important dog m...</td>\n",
       "      <td>12</td>\n",
       "      <td>10</td>\n",
       "      <td>True</td>\n",
       "      <td>False</td>\n",
       "      <td>False</td>\n",
       "      <td>False</td>\n",
       "      <td>German_shepherd</td>\n",
       "      <td>140</td>\n",
       "      <td>3128</td>\n",
       "      <td>20771</td>\n",
       "    </tr>\n",
       "    <tr>\n",
       "      <th>...</th>\n",
       "      <td>...</td>\n",
       "      <td>...</td>\n",
       "      <td>...</td>\n",
       "      <td>...</td>\n",
       "      <td>...</td>\n",
       "      <td>...</td>\n",
       "      <td>...</td>\n",
       "      <td>...</td>\n",
       "      <td>...</td>\n",
       "      <td>...</td>\n",
       "      <td>...</td>\n",
       "      <td>...</td>\n",
       "      <td>...</td>\n",
       "    </tr>\n",
       "    <tr>\n",
       "      <th>238</th>\n",
       "      <td>672622327801233409</td>\n",
       "      <td>2015-12-04 03:43:54</td>\n",
       "      <td>This lil pupper is sad because we haven't foun...</td>\n",
       "      <td>12</td>\n",
       "      <td>10</td>\n",
       "      <td>False</td>\n",
       "      <td>False</td>\n",
       "      <td>True</td>\n",
       "      <td>False</td>\n",
       "      <td>golden_retriever</td>\n",
       "      <td>128</td>\n",
       "      <td>542</td>\n",
       "      <td>1377</td>\n",
       "    </tr>\n",
       "    <tr>\n",
       "      <th>239</th>\n",
       "      <td>672594978741354496</td>\n",
       "      <td>2015-12-04 01:55:13</td>\n",
       "      <td>Meet Scott. Just trying to catch his train to ...</td>\n",
       "      <td>9</td>\n",
       "      <td>10</td>\n",
       "      <td>False</td>\n",
       "      <td>False</td>\n",
       "      <td>True</td>\n",
       "      <td>False</td>\n",
       "      <td>Great_Pyrenees</td>\n",
       "      <td>137</td>\n",
       "      <td>661</td>\n",
       "      <td>1411</td>\n",
       "    </tr>\n",
       "    <tr>\n",
       "      <th>240</th>\n",
       "      <td>672481316919734272</td>\n",
       "      <td>2015-12-03 18:23:34</td>\n",
       "      <td>Say hello to Jazz. She should be on the cover ...</td>\n",
       "      <td>12</td>\n",
       "      <td>10</td>\n",
       "      <td>False</td>\n",
       "      <td>False</td>\n",
       "      <td>True</td>\n",
       "      <td>False</td>\n",
       "      <td>Border_collie</td>\n",
       "      <td>101</td>\n",
       "      <td>137</td>\n",
       "      <td>757</td>\n",
       "    </tr>\n",
       "    <tr>\n",
       "      <th>241</th>\n",
       "      <td>672254177670729728</td>\n",
       "      <td>2015-12-03 03:21:00</td>\n",
       "      <td>This is Rolf. He's having the time of his life...</td>\n",
       "      <td>11</td>\n",
       "      <td>10</td>\n",
       "      <td>False</td>\n",
       "      <td>False</td>\n",
       "      <td>True</td>\n",
       "      <td>False</td>\n",
       "      <td>pug</td>\n",
       "      <td>89</td>\n",
       "      <td>800</td>\n",
       "      <td>1515</td>\n",
       "    </tr>\n",
       "    <tr>\n",
       "      <th>242</th>\n",
       "      <td>672160042234327040</td>\n",
       "      <td>2015-12-02 21:06:56</td>\n",
       "      <td>This is Bubba. He's a Titted Peebles Aorta. Ev...</td>\n",
       "      <td>8</td>\n",
       "      <td>10</td>\n",
       "      <td>False</td>\n",
       "      <td>False</td>\n",
       "      <td>True</td>\n",
       "      <td>False</td>\n",
       "      <td>pug</td>\n",
       "      <td>138</td>\n",
       "      <td>395</td>\n",
       "      <td>918</td>\n",
       "    </tr>\n",
       "  </tbody>\n",
       "</table>\n",
       "<p>243 rows × 13 columns</p>\n",
       "</div>"
      ],
      "text/plain": [
       "               tweet_id            timestamp  \\\n",
       "0    890240255349198849  2017-07-26 15:59:51   \n",
       "1    889665388333682689  2017-07-25 01:55:32   \n",
       "2    889531135344209921  2017-07-24 17:02:04   \n",
       "3    886366144734445568  2017-07-15 23:25:31   \n",
       "4    884162670584377345  2017-07-09 21:29:42   \n",
       "..                  ...                  ...   \n",
       "238  672622327801233409  2015-12-04 03:43:54   \n",
       "239  672594978741354496  2015-12-04 01:55:13   \n",
       "240  672481316919734272  2015-12-03 18:23:34   \n",
       "241  672254177670729728  2015-12-03 03:21:00   \n",
       "242  672160042234327040  2015-12-02 21:06:56   \n",
       "\n",
       "                                                  text  rating_numerator  \\\n",
       "0    This is Cassie. She is a college pup. Studying...                14   \n",
       "1    Here's a puppo that seems to be on the fence a...                13   \n",
       "2    This is Stuart. He's sporting his favorite fan...                13   \n",
       "3    This is Roscoe. Another pupper fallen victim t...                12   \n",
       "4    Meet Yogi. He doesn't have any important dog m...                12   \n",
       "..                                                 ...               ...   \n",
       "238  This lil pupper is sad because we haven't foun...                12   \n",
       "239  Meet Scott. Just trying to catch his train to ...                 9   \n",
       "240  Say hello to Jazz. She should be on the cover ...                12   \n",
       "241  This is Rolf. He's having the time of his life...                11   \n",
       "242  This is Bubba. He's a Titted Peebles Aorta. Ev...                 8   \n",
       "\n",
       "     rating_denominator  doggo  floofer  pupper  puppo         dog_breed  \\\n",
       "0                    10   True    False   False  False          Pembroke   \n",
       "1                    10  False    False   False   True          Pembroke   \n",
       "2                    10  False    False   False   True  golden_retriever   \n",
       "3                    10  False    False    True  False    French_bulldog   \n",
       "4                    10   True    False   False  False   German_shepherd   \n",
       "..                  ...    ...      ...     ...    ...               ...   \n",
       "238                  10  False    False    True  False  golden_retriever   \n",
       "239                  10  False    False    True  False    Great_Pyrenees   \n",
       "240                  10  False    False    True  False     Border_collie   \n",
       "241                  10  False    False    True  False               pug   \n",
       "242                  10  False    False    True  False               pug   \n",
       "\n",
       "     display_text_range  retweet_count  favorite_count  \n",
       "0                   133           7711           32467  \n",
       "1                   106           8538           38818  \n",
       "2                   118           2321           15359  \n",
       "3                   131           3316           21524  \n",
       "4                   140           3128           20771  \n",
       "..                  ...            ...             ...  \n",
       "238                 128            542            1377  \n",
       "239                 137            661            1411  \n",
       "240                 101            137             757  \n",
       "241                  89            800            1515  \n",
       "242                 138            395             918  \n",
       "\n",
       "[243 rows x 13 columns]"
      ]
     },
     "execution_count": 554,
     "metadata": {},
     "output_type": "execute_result"
    }
   ],
   "source": [
    "# input values where stages are hidden\n",
    "def fill(stage):\n",
    "    for text in archiveCopy.text[archiveCopy[stage] != stage]:\n",
    "        if stage in text:\n",
    "            index = archiveCopy[archiveCopy.text == text].index\n",
    "            archiveCopy[stage].iloc[index] = stage;\n",
    "\n",
    "stages = ['doggo', 'floofer','pupper', 'puppo']\n",
    "for stage in stages:\n",
    "    fill(stage)\n",
    "\n",
    "# archiveCopy = archiveCopy[(archiveCopy.doggo == 'doggo') | (archiveCopy.puppo == 'puppo') | (archiveCopy.floofer == 'floofer') | (archiveCopy.pupper == 'pupper')]\n",
    "\n",
    "# Create boolean values\n",
    "archiveCopy['doggo'] = archiveCopy['doggo'] == 'doggo'\n",
    "archiveCopy['puppo'] = archiveCopy['puppo'] == 'puppo'\n",
    "archiveCopy['floofer'] = archiveCopy['floofer'] == 'floofer'\n",
    "archiveCopy['pupper'] = archiveCopy['pupper'] == 'pupper'\n",
    "\n",
    "# select ratings that are one of ['doggo', 'floofer','pupper', 'puppo']\n",
    "archiveCopy = archiveCopy[(archiveCopy.doggo == True) | (archiveCopy.puppo == True) | (archiveCopy.floofer == True) | (archiveCopy.pupper == True)]\n",
    "archiveCopy.dropna(axis=1, inplace=True)\n",
    "archiveCopy.reset_index(drop=True)"
   ]
  },
  {
   "cell_type": "markdown",
   "metadata": {},
   "source": [
    "#### Test"
   ]
  },
  {
   "cell_type": "code",
   "execution_count": 555,
   "metadata": {},
   "outputs": [
    {
     "data": {
      "text/html": [
       "<div>\n",
       "<style scoped>\n",
       "    .dataframe tbody tr th:only-of-type {\n",
       "        vertical-align: middle;\n",
       "    }\n",
       "\n",
       "    .dataframe tbody tr th {\n",
       "        vertical-align: top;\n",
       "    }\n",
       "\n",
       "    .dataframe thead th {\n",
       "        text-align: right;\n",
       "    }\n",
       "</style>\n",
       "<table border=\"1\" class=\"dataframe\">\n",
       "  <thead>\n",
       "    <tr style=\"text-align: right;\">\n",
       "      <th></th>\n",
       "      <th>tweet_id</th>\n",
       "      <th>timestamp</th>\n",
       "      <th>text</th>\n",
       "      <th>rating_numerator</th>\n",
       "      <th>rating_denominator</th>\n",
       "      <th>doggo</th>\n",
       "      <th>floofer</th>\n",
       "      <th>pupper</th>\n",
       "      <th>puppo</th>\n",
       "      <th>dog_breed</th>\n",
       "      <th>display_text_range</th>\n",
       "      <th>retweet_count</th>\n",
       "      <th>favorite_count</th>\n",
       "    </tr>\n",
       "  </thead>\n",
       "  <tbody>\n",
       "    <tr>\n",
       "      <th>7</th>\n",
       "      <td>890240255349198849</td>\n",
       "      <td>2017-07-26 15:59:51</td>\n",
       "      <td>This is Cassie. She is a college pup. Studying...</td>\n",
       "      <td>14</td>\n",
       "      <td>10</td>\n",
       "      <td>True</td>\n",
       "      <td>False</td>\n",
       "      <td>False</td>\n",
       "      <td>False</td>\n",
       "      <td>Pembroke</td>\n",
       "      <td>133</td>\n",
       "      <td>7711</td>\n",
       "      <td>32467</td>\n",
       "    </tr>\n",
       "    <tr>\n",
       "      <th>10</th>\n",
       "      <td>889665388333682689</td>\n",
       "      <td>2017-07-25 01:55:32</td>\n",
       "      <td>Here's a puppo that seems to be on the fence a...</td>\n",
       "      <td>13</td>\n",
       "      <td>10</td>\n",
       "      <td>False</td>\n",
       "      <td>False</td>\n",
       "      <td>False</td>\n",
       "      <td>True</td>\n",
       "      <td>Pembroke</td>\n",
       "      <td>106</td>\n",
       "      <td>8538</td>\n",
       "      <td>38818</td>\n",
       "    </tr>\n",
       "    <tr>\n",
       "      <th>12</th>\n",
       "      <td>889531135344209921</td>\n",
       "      <td>2017-07-24 17:02:04</td>\n",
       "      <td>This is Stuart. He's sporting his favorite fan...</td>\n",
       "      <td>13</td>\n",
       "      <td>10</td>\n",
       "      <td>False</td>\n",
       "      <td>False</td>\n",
       "      <td>False</td>\n",
       "      <td>True</td>\n",
       "      <td>golden_retriever</td>\n",
       "      <td>118</td>\n",
       "      <td>2321</td>\n",
       "      <td>15359</td>\n",
       "    </tr>\n",
       "    <tr>\n",
       "      <th>24</th>\n",
       "      <td>886366144734445568</td>\n",
       "      <td>2017-07-15 23:25:31</td>\n",
       "      <td>This is Roscoe. Another pupper fallen victim t...</td>\n",
       "      <td>12</td>\n",
       "      <td>10</td>\n",
       "      <td>False</td>\n",
       "      <td>False</td>\n",
       "      <td>True</td>\n",
       "      <td>False</td>\n",
       "      <td>French_bulldog</td>\n",
       "      <td>131</td>\n",
       "      <td>3316</td>\n",
       "      <td>21524</td>\n",
       "    </tr>\n",
       "    <tr>\n",
       "      <th>33</th>\n",
       "      <td>884162670584377345</td>\n",
       "      <td>2017-07-09 21:29:42</td>\n",
       "      <td>Meet Yogi. He doesn't have any important dog m...</td>\n",
       "      <td>12</td>\n",
       "      <td>10</td>\n",
       "      <td>True</td>\n",
       "      <td>False</td>\n",
       "      <td>False</td>\n",
       "      <td>False</td>\n",
       "      <td>German_shepherd</td>\n",
       "      <td>140</td>\n",
       "      <td>3128</td>\n",
       "      <td>20771</td>\n",
       "    </tr>\n",
       "  </tbody>\n",
       "</table>\n",
       "</div>"
      ],
      "text/plain": [
       "              tweet_id            timestamp  \\\n",
       "7   890240255349198849  2017-07-26 15:59:51   \n",
       "10  889665388333682689  2017-07-25 01:55:32   \n",
       "12  889531135344209921  2017-07-24 17:02:04   \n",
       "24  886366144734445568  2017-07-15 23:25:31   \n",
       "33  884162670584377345  2017-07-09 21:29:42   \n",
       "\n",
       "                                                 text  rating_numerator  \\\n",
       "7   This is Cassie. She is a college pup. Studying...                14   \n",
       "10  Here's a puppo that seems to be on the fence a...                13   \n",
       "12  This is Stuart. He's sporting his favorite fan...                13   \n",
       "24  This is Roscoe. Another pupper fallen victim t...                12   \n",
       "33  Meet Yogi. He doesn't have any important dog m...                12   \n",
       "\n",
       "    rating_denominator  doggo  floofer  pupper  puppo         dog_breed  \\\n",
       "7                   10   True    False   False  False          Pembroke   \n",
       "10                  10  False    False   False   True          Pembroke   \n",
       "12                  10  False    False   False   True  golden_retriever   \n",
       "24                  10  False    False    True  False    French_bulldog   \n",
       "33                  10   True    False   False  False   German_shepherd   \n",
       "\n",
       "    display_text_range  retweet_count  favorite_count  \n",
       "7                  133           7711           32467  \n",
       "10                 106           8538           38818  \n",
       "12                 118           2321           15359  \n",
       "24                 131           3316           21524  \n",
       "33                 140           3128           20771  "
      ]
     },
     "execution_count": 555,
     "metadata": {},
     "output_type": "execute_result"
    }
   ],
   "source": [
    "archiveCopy.head()"
   ]
  },
  {
   "cell_type": "code",
   "execution_count": 561,
   "metadata": {},
   "outputs": [
    {
     "name": "stdout",
     "output_type": "stream",
     "text": [
      "<class 'pandas.core.frame.DataFrame'>\n",
      "Int64Index: 243 entries, 7 to 1251\n",
      "Data columns (total 13 columns):\n",
      " #   Column              Non-Null Count  Dtype \n",
      "---  ------              --------------  ----- \n",
      " 0   tweet_id            243 non-null    int64 \n",
      " 1   timestamp           243 non-null    object\n",
      " 2   text                243 non-null    object\n",
      " 3   rating_numerator    243 non-null    int64 \n",
      " 4   rating_denominator  243 non-null    int64 \n",
      " 5   doggo               243 non-null    bool  \n",
      " 6   floofer             243 non-null    bool  \n",
      " 7   pupper              243 non-null    bool  \n",
      " 8   puppo               243 non-null    bool  \n",
      " 9   dog_breed           243 non-null    object\n",
      " 10  display_text_range  243 non-null    int64 \n",
      " 11  retweet_count       243 non-null    int64 \n",
      " 12  favorite_count      243 non-null    int64 \n",
      "dtypes: bool(4), int64(6), object(3)\n",
      "memory usage: 19.9+ KB\n"
     ]
    }
   ],
   "source": [
    "archiveCopy.info()"
   ]
  },
  {
   "cell_type": "markdown",
   "metadata": {},
   "source": [
    "## Storing Data\n",
    "Save gathered, assessed, and cleaned master dataset to a CSV file named \"twitter_archive_master.csv\"."
   ]
  },
  {
   "cell_type": "code",
   "execution_count": 562,
   "metadata": {},
   "outputs": [],
   "source": [
    "archiveCopy.to_csv('twitter_archive_master.csv')"
   ]
  },
  {
   "cell_type": "markdown",
   "metadata": {},
   "source": [
    "## Analyzing and Visualizing Data\n",
    "In this section, analyze and visualize your wrangled data. You must produce at least **three (3) insights and one (1) visualization.**"
   ]
  },
  {
   "cell_type": "code",
   "execution_count": 563,
   "metadata": {},
   "outputs": [
    {
     "name": "stdout",
     "output_type": "stream",
     "text": [
      "Breed count: \n",
      " golden_retriever      33\n",
      "Labrador_retriever    17\n",
      "Pembroke              13\n",
      "Pomeranian             9\n",
      "Chihuahua              8\n",
      "                      ..\n",
      "basset                 1\n",
      "Brabancon_griffon      1\n",
      "Brittany_spaniel       1\n",
      "Leonberg               1\n",
      "clumber                1\n",
      "Name: dog_breed, Length: 79, dtype: int64 \n",
      "\n",
      "Highset retweets: 79515\n",
      "Highest likes: 132810\n"
     ]
    }
   ],
   "source": [
    "print('Breed count:','\\n', archiveCopy.dog_breed.value_counts(), '\\n')\n",
    "print('Highset retweets:', archiveCopy.retweet_count.max())\n",
    "print('Highest likes:', archiveCopy.favorite_count.max())"
   ]
  },
  {
   "cell_type": "markdown",
   "metadata": {},
   "source": [
    "### Insights:\n",
    "1. golden_retriever is the most common dog breed\n",
    "\n",
    "2. The most liked tweet has 132,810 likes\n",
    "\n",
    "3. The most retweeted tweet has 132810 retweets"
   ]
  },
  {
   "cell_type": "markdown",
   "metadata": {
    "collapsed": true
   },
   "source": [
    "### Visualization"
   ]
  },
  {
   "cell_type": "code",
   "execution_count": 559,
   "metadata": {},
   "outputs": [
    {
     "data": {
      "text/plain": [
       "<AxesSubplot:xlabel='variable', ylabel='count'>"
      ]
     },
     "execution_count": 559,
     "metadata": {},
     "output_type": "execute_result"
    },
    {
     "data": {
      "image/png": "[encoded data removed]",
      "text/plain": [
       "<Figure size 432x288 with 1 Axes>"
      ]
     },
     "metadata": {
      "needs_background": "light"
     },
     "output_type": "display_data"
    }
   ],
   "source": [
    "# subset columns\n",
    "values = archiveCopy[['doggo', 'floofer', 'pupper', 'puppo']]\n",
    "values = values.reset_index(drop=True)\n",
    "\n",
    "# plot\n",
    "sns.countplot(x='variable', hue='value', data=pd.melt(values))"
   ]
  }
 ],
 "metadata": {
  "extensions": {
   "jupyter_dashboards": {
    "activeView": "report_default",
    "version": 1,
    "views": {
     "grid_default": {
      "cellMargin": 10,
      "defaultCellHeight": 20,
      "maxColumns": 12,
      "name": "grid",
      "type": "grid"
     },
     "report_default": {
      "name": "report",
      "type": "report"
     }
    }
   }
  },
  "interpreter": {
   "hash": "40d3a090f54c6569ab1632332b64b2c03c39dcf918b08424e98f38b5ae0af88f"
  },
  "kernelspec": {
   "display_name": "Python 3.8.8 ('base')",
   "language": "python",
   "name": "python3"
  },
  "language_info": {
   "codemirror_mode": {
    "name": "ipython",
    "version": 3
   },
   "file_extension": ".py",
   "mimetype": "text/x-python",
   "name": "python",
   "nbconvert_exporter": "python",
   "pygments_lexer": "ipython3",
   "version": "3.8.8"
  }
 },
 "nbformat": 4,
 "nbformat_minor": 2
}
